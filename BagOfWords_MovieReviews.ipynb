{
 "cells": [
  {
   "cell_type": "markdown",
   "id": "996c4261",
   "metadata": {},
   "source": [
    "# Bag of Words model (Movie reviews)\n",
    "\n",
    "- Convert a collection of text documents to a matrix of token counts\n",
    "\n",
    "- This implementation produces a sparse representation of the counts using\n",
    "scipy.sparse.csr_matrix."
   ]
  },
  {
   "cell_type": "markdown",
   "id": "4ac15dcc",
   "metadata": {},
   "source": [
    "1. Tokenize the text \n",
    "2. Idnetify unnique words acted aas vocab\n",
    "3. Count occurrence of each unique word in text\n",
    "\n",
    "Sklearn provides a class called CountVectorizer whihc implements BOW model. \n",
    "Fit the list phrases and also create vocabulary."
   ]
  },
  {
   "cell_type": "code",
   "execution_count": 25,
   "id": "cc9d358e",
   "metadata": {},
   "outputs": [],
   "source": [
    "from sklearn.feature_extraction.text import CountVectorizer\n",
    "import pandas as pd\n",
    "from sklearn.model_selection import GridSearchCV\n",
    "from sklearn.linear_model import LogisticRegression\n",
    "from sklearn.metrics import classification_report, accuracy_score\n",
    "from sklearn.pipeline import Pipeline\n",
    "from sklearn.model_selection import cross_val_score\n",
    "import numpy as np\n",
    "import warnings\n",
    "warnings.filterwarnings('ignore')"
   ]
  },
  {
   "cell_type": "markdown",
   "id": "a193c8ea",
   "metadata": {},
   "source": [
    "## Read data"
   ]
  },
  {
   "cell_type": "code",
   "execution_count": 3,
   "id": "343715b6",
   "metadata": {
    "scrolled": true
   },
   "outputs": [
    {
     "data": {
      "text/html": [
       "<div>\n",
       "<style scoped>\n",
       "    .dataframe tbody tr th:only-of-type {\n",
       "        vertical-align: middle;\n",
       "    }\n",
       "\n",
       "    .dataframe tbody tr th {\n",
       "        vertical-align: top;\n",
       "    }\n",
       "\n",
       "    .dataframe thead th {\n",
       "        text-align: right;\n",
       "    }\n",
       "</style>\n",
       "<table border=\"1\" class=\"dataframe\">\n",
       "  <thead>\n",
       "    <tr style=\"text-align: right;\">\n",
       "      <th></th>\n",
       "      <th>label</th>\n",
       "      <th>review</th>\n",
       "    </tr>\n",
       "  </thead>\n",
       "  <tbody>\n",
       "    <tr>\n",
       "      <th>0</th>\n",
       "      <td>neg</td>\n",
       "      <td>how do films like mouse hunt get into theatres...</td>\n",
       "    </tr>\n",
       "    <tr>\n",
       "      <th>1</th>\n",
       "      <td>neg</td>\n",
       "      <td>some talented actresses are blessed with a dem...</td>\n",
       "    </tr>\n",
       "    <tr>\n",
       "      <th>2</th>\n",
       "      <td>pos</td>\n",
       "      <td>this has been an extraordinary year for austra...</td>\n",
       "    </tr>\n",
       "    <tr>\n",
       "      <th>3</th>\n",
       "      <td>pos</td>\n",
       "      <td>according to hollywood movies made in last few...</td>\n",
       "    </tr>\n",
       "    <tr>\n",
       "      <th>4</th>\n",
       "      <td>neg</td>\n",
       "      <td>my first press screening of 1998 and already i...</td>\n",
       "    </tr>\n",
       "  </tbody>\n",
       "</table>\n",
       "</div>"
      ],
      "text/plain": [
       "  label                                             review\n",
       "0   neg  how do films like mouse hunt get into theatres...\n",
       "1   neg  some talented actresses are blessed with a dem...\n",
       "2   pos  this has been an extraordinary year for austra...\n",
       "3   pos  according to hollywood movies made in last few...\n",
       "4   neg  my first press screening of 1998 and already i..."
      ]
     },
     "execution_count": 3,
     "metadata": {},
     "output_type": "execute_result"
    }
   ],
   "source": [
    "df = pd.read_csv('../moviereviews.tsv', sep='\\t')\n",
    "df.head()"
   ]
  },
  {
   "cell_type": "code",
   "execution_count": 4,
   "id": "687eea34",
   "metadata": {},
   "outputs": [
    {
     "data": {
      "text/plain": [
       "neg    1000\n",
       "pos    1000\n",
       "Name: label, dtype: int64"
      ]
     },
     "execution_count": 4,
     "metadata": {},
     "output_type": "execute_result"
    }
   ],
   "source": [
    "#np.bincount(df.label)\n",
    "df['label'].value_counts()"
   ]
  },
  {
   "cell_type": "code",
   "execution_count": 5,
   "id": "2bdaf16f",
   "metadata": {},
   "outputs": [
    {
     "data": {
      "text/plain": [
       "label      0\n",
       "review    35\n",
       "dtype: int64"
      ]
     },
     "execution_count": 5,
     "metadata": {},
     "output_type": "execute_result"
    }
   ],
   "source": [
    "df.isnull().sum()"
   ]
  },
  {
   "cell_type": "code",
   "execution_count": 6,
   "id": "a88374c9",
   "metadata": {},
   "outputs": [],
   "source": [
    "df = df.dropna()"
   ]
  },
  {
   "cell_type": "code",
   "execution_count": 7,
   "id": "7f7bcf64",
   "metadata": {},
   "outputs": [
    {
     "data": {
      "text/plain": [
       "(1965, 2)"
      ]
     },
     "execution_count": 7,
     "metadata": {},
     "output_type": "execute_result"
    }
   ],
   "source": [
    "df.shape"
   ]
  },
  {
   "cell_type": "markdown",
   "id": "1d93255d",
   "metadata": {},
   "source": [
    "## Split data into train and test"
   ]
  },
  {
   "cell_type": "code",
   "execution_count": 38,
   "id": "04613006",
   "metadata": {},
   "outputs": [],
   "source": [
    "def split_data(data,y,length,split_mark=0.8):\n",
    "    if split_mark > 0. and split_mark<1.0:\n",
    "        n = int(split_mark*length)\n",
    "    else:\n",
    "        n = int(split_mark)\n",
    "    xtrain = data[:n].copy()\n",
    "    xtest = data[n:].copy()\n",
    "    ytrain = y[:n].copy()\n",
    "    ytest = y[n:].copy()\n",
    "    return xtrain, xtest, ytrain, ytest"
   ]
  },
  {
   "cell_type": "code",
   "execution_count": 39,
   "id": "871b1c9e",
   "metadata": {},
   "outputs": [
    {
     "name": "stdout",
     "output_type": "stream",
     "text": [
      "(1572,) (393,)\n"
     ]
    }
   ],
   "source": [
    "xtrain, xtest, ytrain, ytest = split_data(df.review, df.label, len(df))\n",
    "print(xtrain.shape, xtest.shape)"
   ]
  },
  {
   "cell_type": "code",
   "execution_count": 40,
   "id": "65637694",
   "metadata": {},
   "outputs": [
    {
     "data": {
      "text/plain": [
       "0       how do films like mouse hunt get into theatres...\n",
       "1       some talented actresses are blessed with a dem...\n",
       "2       this has been an extraordinary year for austra...\n",
       "3       according to hollywood movies made in last few...\n",
       "4       my first press screening of 1998 and already i...\n",
       "                              ...                        \n",
       "1598    usually when one is debating who the modern qu...\n",
       "1599    aliens ! ! well , that is what this movie is a...\n",
       "1601     \" mission to mars \" is one of those annoying ...\n",
       "1602    martin scorsese's triumphant adaptation of edi...\n",
       "1603    like the great musical pieces of mozart himsel...\n",
       "Name: review, Length: 1572, dtype: object"
      ]
     },
     "execution_count": 40,
     "metadata": {},
     "output_type": "execute_result"
    }
   ],
   "source": [
    "xtrain"
   ]
  },
  {
   "cell_type": "markdown",
   "id": "53ccbeb3",
   "metadata": {},
   "source": [
    "Let's build a model using pipeline object and separate steps."
   ]
  },
  {
   "cell_type": "markdown",
   "id": "2599c70c",
   "metadata": {},
   "source": [
    "## Separate Steps"
   ]
  },
  {
   "cell_type": "markdown",
   "id": "12cd6d90",
   "metadata": {},
   "source": [
    "### Feature Extraction"
   ]
  },
  {
   "cell_type": "code",
   "execution_count": 41,
   "id": "82775399",
   "metadata": {},
   "outputs": [],
   "source": [
    "vectorizer = CountVectorizer()"
   ]
  },
  {
   "cell_type": "code",
   "execution_count": 43,
   "id": "c97f602d",
   "metadata": {},
   "outputs": [],
   "source": [
    "xtrain_bow = vectorizer.fit_transform(xtrain)\n",
    "xtest_bow = vectorizer.transform(xtest)"
   ]
  },
  {
   "cell_type": "code",
   "execution_count": 44,
   "id": "cabb7de8",
   "metadata": {},
   "outputs": [
    {
     "data": {
      "text/plain": [
       "(1572, 35629)"
      ]
     },
     "execution_count": 44,
     "metadata": {},
     "output_type": "execute_result"
    }
   ],
   "source": [
    "# 35629 diff unique words\n",
    "xtrain_bow.shape"
   ]
  },
  {
   "cell_type": "code",
   "execution_count": 50,
   "id": "6a797aed",
   "metadata": {},
   "outputs": [
    {
     "data": {
      "text/plain": [
       "array([[0, 0, 0, ..., 0, 0, 0],\n",
       "       [0, 0, 0, ..., 0, 0, 0],\n",
       "       [0, 1, 0, ..., 0, 0, 0],\n",
       "       ...,\n",
       "       [0, 0, 0, ..., 0, 0, 0],\n",
       "       [0, 0, 0, ..., 0, 0, 0],\n",
       "       [0, 0, 0, ..., 0, 0, 0]], dtype=int64)"
      ]
     },
     "execution_count": 50,
     "metadata": {},
     "output_type": "execute_result"
    }
   ],
   "source": [
    "xtrain_bow.toarray()"
   ]
  },
  {
   "cell_type": "code",
   "execution_count": 51,
   "id": "f8d6eea4",
   "metadata": {
    "scrolled": true
   },
   "outputs": [
    {
     "data": {
      "text/plain": [
       "['mastering',\n",
       " 'masterless',\n",
       " 'mastermind',\n",
       " 'masterminded',\n",
       " 'masterminds',\n",
       " 'masterpeice',\n",
       " 'masterpiece',\n",
       " 'masterpieces',\n",
       " 'masters',\n",
       " 'masterson',\n",
       " 'masterwork',\n",
       " 'mastery',\n",
       " 'mastrantonio',\n",
       " 'masturbates',\n",
       " 'masturbation',\n",
       " 'masturbatory',\n",
       " 'masur',\n",
       " 'mat',\n",
       " 'matador',\n",
       " 'matarazzo']"
      ]
     },
     "execution_count": 51,
     "metadata": {},
     "output_type": "execute_result"
    }
   ],
   "source": [
    "feature_names = vectorizer.get_feature_names()\n",
    "feature_names[19500:19520]"
   ]
  },
  {
   "cell_type": "markdown",
   "id": "44a58653",
   "metadata": {},
   "source": [
    "### Model Training & Prediction"
   ]
  },
  {
   "cell_type": "code",
   "execution_count": 54,
   "id": "68c62bfb",
   "metadata": {},
   "outputs": [],
   "source": [
    "parameters = {'C':[0.001,0.01,0.1,1,10], 'max_iter':[50, 75, 100, 150]}\n",
    "gs_clf = GridSearchCV(estimator=LogisticRegression(),param_grid=parameters, n_jobs=-1, cv=5)"
   ]
  },
  {
   "cell_type": "code",
   "execution_count": 55,
   "id": "1b8caedb",
   "metadata": {},
   "outputs": [
    {
     "name": "stdout",
     "output_type": "stream",
     "text": [
      "MEan score:0.83\n"
     ]
    }
   ],
   "source": [
    "scores = cross_val_score(estimator=gs_clf, X=xtrain_bow, y=ytrain ,cv=5)\n",
    "print(\"MEan score:{:.2f}\".format(np.mean(scores)))"
   ]
  },
  {
   "cell_type": "code",
   "execution_count": 67,
   "id": "e3af5977",
   "metadata": {},
   "outputs": [],
   "source": [
    "log_model = gs_clf.fit(xtrain_bow, ytrain)"
   ]
  },
  {
   "cell_type": "code",
   "execution_count": 69,
   "id": "08785c5d",
   "metadata": {},
   "outputs": [],
   "source": [
    "preds = log_model.predict(xtest_bow)"
   ]
  },
  {
   "cell_type": "code",
   "execution_count": 70,
   "id": "05665013",
   "metadata": {},
   "outputs": [
    {
     "data": {
      "text/plain": [
       "0.8371501272264631"
      ]
     },
     "execution_count": 70,
     "metadata": {},
     "output_type": "execute_result"
    }
   ],
   "source": [
    "accuracy_score(ytest, preds)"
   ]
  },
  {
   "cell_type": "markdown",
   "id": "74532643",
   "metadata": {},
   "source": [
    "### Single data prediction"
   ]
  },
  {
   "cell_type": "code",
   "execution_count": 71,
   "id": "0723355f",
   "metadata": {},
   "outputs": [],
   "source": [
    "raw = df['review'][2]\n",
    "data = vectorizer.transform([raw])"
   ]
  },
  {
   "cell_type": "code",
   "execution_count": 72,
   "id": "9ac24023",
   "metadata": {},
   "outputs": [
    {
     "data": {
      "text/plain": [
       "(1, 35629)"
      ]
     },
     "execution_count": 72,
     "metadata": {},
     "output_type": "execute_result"
    }
   ],
   "source": [
    "# 35629 unique words as features\n",
    "data.shape"
   ]
  },
  {
   "cell_type": "code",
   "execution_count": 73,
   "id": "7d3ad164",
   "metadata": {},
   "outputs": [
    {
     "data": {
      "text/plain": [
       "array(['pos'], dtype=object)"
      ]
     },
     "execution_count": 73,
     "metadata": {},
     "output_type": "execute_result"
    }
   ],
   "source": [
    "log_model.predict(data)"
   ]
  },
  {
   "cell_type": "code",
   "execution_count": 74,
   "id": "d89badc3",
   "metadata": {},
   "outputs": [
    {
     "data": {
      "text/plain": [
       "'pos'"
      ]
     },
     "execution_count": 74,
     "metadata": {},
     "output_type": "execute_result"
    }
   ],
   "source": [
    "df['label'][2]"
   ]
  },
  {
   "cell_type": "markdown",
   "id": "6e221e89",
   "metadata": {},
   "source": [
    "Now, let's summarise all these steps as in a pipeline object."
   ]
  },
  {
   "cell_type": "markdown",
   "id": "c65311d5",
   "metadata": {},
   "source": [
    "## Pipeline Methodology"
   ]
  },
  {
   "cell_type": "code",
   "execution_count": 11,
   "id": "3ae0748a",
   "metadata": {},
   "outputs": [],
   "source": [
    "#count(word)/#total words in doc\n",
    "\n",
    "t = Pipeline([\n",
    "    ('vect',CountVectorizer()),\n",
    "    ('clf',LogisticRegression())])"
   ]
  },
  {
   "cell_type": "code",
   "execution_count": 12,
   "id": "22fc77f7",
   "metadata": {},
   "outputs": [
    {
     "data": {
      "text/plain": [
       "Pipeline(steps=[('vect', CountVectorizer()), ('clf', LogisticRegression())])"
      ]
     },
     "execution_count": 12,
     "metadata": {},
     "output_type": "execute_result"
    }
   ],
   "source": [
    "t.fit(xtrain, ytrain)"
   ]
  },
  {
   "cell_type": "code",
   "execution_count": 14,
   "id": "50daa19e",
   "metadata": {
    "scrolled": true
   },
   "outputs": [
    {
     "data": {
      "text/plain": [
       "0.8269720101781171"
      ]
     },
     "execution_count": 14,
     "metadata": {},
     "output_type": "execute_result"
    }
   ],
   "source": [
    "#np.mean(preds==ytest)\n",
    "t.score(xtest,ytest)"
   ]
  },
  {
   "cell_type": "markdown",
   "id": "c2a8aef3",
   "metadata": {},
   "source": [
    "### Hyper-parameter Tuning"
   ]
  },
  {
   "cell_type": "code",
   "execution_count": 20,
   "id": "a0c81fb8",
   "metadata": {
    "scrolled": true
   },
   "outputs": [],
   "source": [
    "pipe = Pipeline([\n",
    "    ('vect',CountVectorizer()),\n",
    "    ('gs_clf',gs_clf)])\n",
    "gs_clf = pipe.fit(xtrain,ytrain)"
   ]
  },
  {
   "cell_type": "code",
   "execution_count": 23,
   "id": "a5751eca",
   "metadata": {},
   "outputs": [
    {
     "data": {
      "text/plain": [
       "0.8371501272264631"
      ]
     },
     "execution_count": 23,
     "metadata": {},
     "output_type": "execute_result"
    }
   ],
   "source": [
    "gs_clf.score(xtest,ytest)"
   ]
  },
  {
   "cell_type": "markdown",
   "id": "43484ed2",
   "metadata": {},
   "source": [
    "## Model Evaluation"
   ]
  },
  {
   "cell_type": "code",
   "execution_count": null,
   "id": "5f1d3562",
   "metadata": {},
   "outputs": [],
   "source": [
    "preds = gs_clf.predict(xtest)"
   ]
  },
  {
   "cell_type": "code",
   "execution_count": 26,
   "id": "859dd801",
   "metadata": {},
   "outputs": [
    {
     "data": {
      "text/plain": [
       "0.8371501272264631"
      ]
     },
     "execution_count": 26,
     "metadata": {},
     "output_type": "execute_result"
    }
   ],
   "source": [
    "accuracy_score(ytest, preds)"
   ]
  },
  {
   "cell_type": "code",
   "execution_count": 27,
   "id": "7ab80a3f",
   "metadata": {},
   "outputs": [
    {
     "name": "stdout",
     "output_type": "stream",
     "text": [
      "              precision    recall  f1-score   support\n",
      "\n",
      "         neg       0.83      0.86      0.84       201\n",
      "         pos       0.84      0.82      0.83       192\n",
      "\n",
      "    accuracy                           0.84       393\n",
      "   macro avg       0.84      0.84      0.84       393\n",
      "weighted avg       0.84      0.84      0.84       393\n",
      "\n"
     ]
    }
   ],
   "source": [
    "print(classification_report(ytest, preds))"
   ]
  },
  {
   "cell_type": "markdown",
   "id": "32f9e3a2",
   "metadata": {},
   "source": [
    "### Raw data prediction"
   ]
  },
  {
   "cell_type": "markdown",
   "id": "8da9c169",
   "metadata": {},
   "source": [
    "We havent performed any text-preprocessing hence, can directly predict over the pipeline model"
   ]
  },
  {
   "cell_type": "code",
   "execution_count": 29,
   "id": "40a869eb",
   "metadata": {},
   "outputs": [
    {
     "data": {
      "text/plain": [
       "array(['neg'], dtype=object)"
      ]
     },
     "execution_count": 29,
     "metadata": {},
     "output_type": "execute_result"
    }
   ],
   "source": [
    "pipe.predict([\" Not best\"])"
   ]
  },
  {
   "cell_type": "markdown",
   "id": "c0deb2e0",
   "metadata": {},
   "source": [
    "# END"
   ]
  }
 ],
 "metadata": {
  "kernelspec": {
   "display_name": "Python 3",
   "language": "python",
   "name": "python3"
  },
  "language_info": {
   "codemirror_mode": {
    "name": "ipython",
    "version": 3
   },
   "file_extension": ".py",
   "mimetype": "text/x-python",
   "name": "python",
   "nbconvert_exporter": "python",
   "pygments_lexer": "ipython3",
   "version": "3.8.8"
  }
 },
 "nbformat": 4,
 "nbformat_minor": 5
}
