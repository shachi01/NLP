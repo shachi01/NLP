{
 "cells": [
  {
   "cell_type": "markdown",
   "id": "dae29a50",
   "metadata": {},
   "source": [
    "# Global Vectors of Word Representation (GloVe)"
   ]
  },
  {
   "cell_type": "markdown",
   "id": "0f75c5d8",
   "metadata": {},
   "source": [
    "## Pre-requisite:\n",
    "- Either download the pre-trained vectors from https://nlp.stanford.edu/projects/glove/ or can also load from gensim library.\n",
    "- This notebook uses the model of Wikipedia 2014 + Gigaword 5 vectors of 300 dimensions."
   ]
  },
  {
   "cell_type": "code",
   "execution_count": 9,
   "id": "cc558070",
   "metadata": {},
   "outputs": [],
   "source": [
    "import numpy as np\n",
    "from sklearn.manifold import TSNE\n",
    "import matplotlib.pyplot as plt\n",
    "import gensim.downloader as api"
   ]
  },
  {
   "cell_type": "markdown",
   "id": "a2d56ee1",
   "metadata": {},
   "source": [
    "## Load Pre-trained model"
   ]
  },
  {
   "cell_type": "code",
   "execution_count": 4,
   "id": "cb73e3d3",
   "metadata": {},
   "outputs": [
    {
     "name": "stdout",
     "output_type": "stream",
     "text": [
      "[==============================================----] 92.2% 346.8/376.1MB downloaded\n"
     ]
    }
   ],
   "source": [
    "glove_model = api.load('glove-wiki-gigaword-300')"
   ]
  },
  {
   "cell_type": "markdown",
   "id": "fa5f9dad",
   "metadata": {},
   "source": [
    "## Find most similar word"
   ]
  },
  {
   "cell_type": "code",
   "execution_count": 11,
   "id": "597bf0cd",
   "metadata": {
    "scrolled": true
   },
   "outputs": [
    {
     "data": {
      "text/plain": [
       "array([ 3.6036e-02,  1.5715e-01,  1.0035e-02,  5.5726e-01, -2.1401e-01,\n",
       "       -2.9975e-01,  1.5078e-01, -2.2666e-01, -3.7132e-01,  2.7188e-01,\n",
       "        5.0163e-01,  8.9716e-04,  4.0262e-02,  5.1123e-02,  8.9384e-02,\n",
       "       -7.9780e-02,  6.6442e-02, -3.9017e-01, -3.4810e-02,  5.4369e-02,\n",
       "        1.9503e-01,  8.9109e-02,  1.7136e-01,  1.4657e-01, -3.2073e-01,\n",
       "        2.8917e-01, -8.0736e-03,  2.8745e-01,  5.8053e-01, -2.5935e-01,\n",
       "       -1.1442e-01,  3.1951e-01,  6.9187e-03, -2.4497e-01,  5.7255e-02,\n",
       "        7.4776e-01,  6.2335e-02,  1.1873e-01,  3.5926e-02, -2.1211e-01,\n",
       "        1.0076e+00,  4.9451e-01,  6.8345e-02, -4.6320e-02,  5.1137e-01,\n",
       "       -5.6300e-01, -1.3605e-01,  3.5704e-01,  1.9769e-01, -2.4946e-01,\n",
       "        5.1624e-01,  2.4210e-01,  3.0078e-01,  2.5931e-02,  2.3495e-01,\n",
       "       -8.3216e-02,  4.9326e-01,  3.2227e-01,  2.7710e-01, -3.5838e-01,\n",
       "        4.6342e-01,  1.9668e-01,  8.9110e-01,  1.9366e-01, -4.8668e-01,\n",
       "       -1.4740e-01, -3.3749e-01, -2.9105e-01,  2.8283e-01, -1.8841e-01,\n",
       "        4.1530e-02, -3.6287e-02, -2.3056e-02, -1.2169e-01, -3.2873e-01,\n",
       "        2.6871e-01, -8.9181e-02, -8.5101e-02,  4.3810e-02,  9.4036e-02,\n",
       "        3.8272e-01,  4.0633e-01,  7.7158e-02,  2.4226e-01, -2.8449e-01,\n",
       "       -3.5432e-02,  4.4832e-02, -2.1435e-01,  4.3836e-01,  3.4784e-02,\n",
       "       -7.4914e-02,  4.5118e-01,  2.0450e-01,  2.9488e-01,  2.8941e-01,\n",
       "        2.9532e-01, -3.2574e-01,  9.2266e-03, -3.4215e-01, -2.7369e-02,\n",
       "       -3.9453e-02,  1.8068e-01, -6.6141e-02,  1.2452e-01, -4.8406e-01,\n",
       "       -2.0404e-01,  7.2537e-02,  3.9819e-01, -3.4477e-01,  6.0615e-02,\n",
       "        5.1348e-01,  6.7541e-02,  3.7863e-01, -3.7835e-01, -5.1299e-03,\n",
       "       -3.8254e-01,  1.5713e-01,  2.6531e-01,  7.9342e-02,  4.5313e-01,\n",
       "        3.3166e-01, -2.1940e-01, -4.3680e-01, -4.7074e-01, -2.9001e-01,\n",
       "       -3.2468e-01, -2.1145e-02,  1.1237e-01, -5.8518e-01,  6.6333e-01,\n",
       "        4.1767e-01,  1.2556e-01,  7.9734e-01, -6.8387e-02,  8.1255e-02,\n",
       "       -3.5846e-01, -1.4858e-01, -1.4743e-02, -5.2118e-01, -1.0322e+00,\n",
       "       -6.6500e-01, -1.5438e-01, -1.3915e-01, -5.9823e-02,  7.3487e-01,\n",
       "       -2.8833e-01, -1.8461e-01, -4.8527e-01, -5.4252e-01,  2.0523e-01,\n",
       "        4.2800e-01, -1.0677e-01, -1.4469e-01,  3.1486e-01,  2.0571e-01,\n",
       "       -4.8156e-02,  1.7454e-01, -1.2504e-01,  3.1981e-01, -1.9688e-01,\n",
       "        3.8466e-01, -4.5418e-01,  5.0827e-01, -3.4447e-02,  1.4693e-01,\n",
       "        3.5673e-02, -4.6055e-01,  3.3132e-01, -5.7531e-04,  3.1691e-01,\n",
       "       -9.8948e-02,  4.2647e-01,  3.0848e-01,  2.6146e-01, -1.7083e-01,\n",
       "        9.3578e-01,  2.8011e-01,  7.3920e-02, -2.5212e-01, -1.9196e-01,\n",
       "        4.6935e-01,  4.7482e-01, -1.7085e-01,  2.2805e-01, -4.6433e-01,\n",
       "       -2.6834e-01,  2.8542e-02,  1.2198e-01, -3.7473e-02,  5.3440e-02,\n",
       "        2.9180e-01, -5.9571e-01,  8.4908e-02, -4.3537e-01, -9.1369e-01,\n",
       "        4.2795e-01,  2.4892e-01, -2.8543e-02,  3.8203e-01, -3.3538e-01,\n",
       "        2.7445e-01,  3.9320e-02,  3.2077e-01,  4.1985e-01,  3.3825e-01,\n",
       "       -8.3482e-03,  4.9264e-01,  3.4224e-01, -3.6769e-01, -6.3705e-01,\n",
       "       -4.7422e-01,  1.5670e-01, -1.8388e-01,  4.2466e-01, -1.2055e-01,\n",
       "        2.2969e-01,  4.2426e-01, -1.4439e-01,  2.4144e-01,  2.0684e-01,\n",
       "       -9.8689e-02,  1.4636e-01, -2.6078e-01,  4.1699e-01, -4.8781e-02,\n",
       "       -3.3260e-01,  3.7783e-02,  4.9137e-01,  2.8221e-01, -1.8507e-01,\n",
       "        1.4461e-01, -4.0014e-01,  3.8438e-01, -8.8778e-01, -3.9338e-01,\n",
       "        5.2001e-01, -2.5950e-01, -3.0886e-02, -4.4872e-01, -9.7664e-02,\n",
       "       -2.7363e-01, -4.7613e-01,  1.7997e-01,  6.5705e-02, -2.7462e-01,\n",
       "       -5.4750e-01,  1.3344e-01,  3.4097e-01,  6.7408e-01, -3.9942e-01,\n",
       "       -2.7728e-01,  1.1729e-01, -2.5470e-01,  1.6388e-01,  1.4140e-01,\n",
       "       -1.9387e-01,  2.2260e-01,  5.6330e-02, -2.2722e-01,  2.5161e-01,\n",
       "        4.6092e-01, -3.0320e-01,  1.8290e-01, -3.6897e-01, -6.7556e-01,\n",
       "       -4.1097e-02,  5.5483e-02,  4.4917e-02, -7.0874e-02, -1.9525e-01,\n",
       "        1.6577e-01, -7.2279e-01,  9.0608e-02, -4.1777e-01, -4.7956e-02,\n",
       "        1.7321e-01, -7.0524e-02, -2.2021e-01, -2.2003e-01, -4.0522e-03,\n",
       "       -4.7464e-01, -3.8056e-01, -2.0399e-01,  2.7940e-01,  3.9672e-01,\n",
       "       -4.6409e-01, -1.2987e-02,  4.1463e-02,  3.2158e-01,  2.3317e-01,\n",
       "       -3.0916e-02, -2.7958e-01, -5.7288e-02, -3.5802e-01,  7.9391e-02,\n",
       "       -1.6873e-01,  1.2938e-01,  4.3864e-01, -1.3641e-01,  4.1512e-01],\n",
       "      dtype=float32)"
      ]
     },
     "execution_count": 11,
     "metadata": {},
     "output_type": "execute_result"
    }
   ],
   "source": [
    "glove_model[\"bliss\"]"
   ]
  },
  {
   "cell_type": "code",
   "execution_count": 10,
   "id": "bee707d3",
   "metadata": {},
   "outputs": [
    {
     "data": {
      "text/plain": [
       "(300,)"
      ]
     },
     "execution_count": 10,
     "metadata": {},
     "output_type": "execute_result"
    }
   ],
   "source": [
    "glove_model[\"beautiful\"].shape"
   ]
  },
  {
   "cell_type": "markdown",
   "id": "fc6c1cfb",
   "metadata": {},
   "source": [
    "## queen - girl + boy = king"
   ]
  },
  {
   "cell_type": "code",
   "execution_count": 8,
   "id": "e9ab4e7d",
   "metadata": {},
   "outputs": [
    {
     "data": {
      "text/plain": [
       "[('king', 0.6770139932632446),\n",
       " ('monarch', 0.5442801117897034),\n",
       " ('elizabeth', 0.5344177484512329),\n",
       " ('majesty', 0.5312743186950684),\n",
       " ('ii', 0.5138020515441895),\n",
       " ('royal', 0.5046806335449219),\n",
       " ('throne', 0.4959518611431122),\n",
       " ('prince', 0.4886453151702881),\n",
       " ('princess', 0.4612610638141632),\n",
       " ('vi', 0.4535139501094818)]"
      ]
     },
     "execution_count": 8,
     "metadata": {},
     "output_type": "execute_result"
    }
   ],
   "source": [
    "# uisng Eucledian\n",
    "glove_model.most_similar(positive=['boy', 'queen'], negative=['girl'], topn=10)"
   ]
  },
  {
   "cell_type": "markdown",
   "id": "302241ff",
   "metadata": {},
   "source": [
    "## Visualize the Vectors"
   ]
  },
  {
   "cell_type": "markdown",
   "id": "b9cf28c3",
   "metadata": {},
   "source": [
    "- t-distributed stochastic neighbor embedding (t-SNE) used to visualize vectors\n",
    "- It reduces high dimensions of the data to lower dimensions which can be later visualized using matplotlib scatter plot"
   ]
  },
  {
   "cell_type": "code",
   "execution_count": 7,
   "id": "7b2d8005",
   "metadata": {},
   "outputs": [
    {
     "data": {
      "image/png": "[encoded data removed]",
      "text/plain": [
       "<Figure size 576x576 with 1 Axes>"
      ]
     },
     "metadata": {
      "needs_background": "light"
     },
     "output_type": "display_data"
    }
   ],
   "source": [
    "vocab = [\"boy\", \"girl\", \"man\", \"woman\", \"king\", \"queen\", \"banana\", \"apple\", \"mango\", \"fruit\", \"coconut\", \"orange\"]\n",
    "\n",
    "def tsne_plot(model):\n",
    "    labels = []\n",
    "    wordvecs = []\n",
    "\n",
    "    for word in vocab:\n",
    "        wordvecs.append(model[word])\n",
    "        labels.append(word)\n",
    "    \n",
    "    # n_components: #dimensions to reduce the data into\n",
    "    tsne_model = TSNE(perplexity=3, n_components=2, init='pca', random_state=42)\n",
    "    coordinates = tsne_model.fit_transform(wordvecs)\n",
    "\n",
    "    #Use Matplotlib Scatter plot\n",
    "    x = []\n",
    "    y = []\n",
    "    for value in coordinates:\n",
    "        x.append(value[0])\n",
    "        y.append(value[1])\n",
    "        \n",
    "    plt.figure(figsize=(8,8)) \n",
    "    for i in range(len(x)):\n",
    "        plt.scatter(x[i],y[i])\n",
    "        plt.annotate(labels[i],\n",
    "                     xy=(x[i], y[i]),\n",
    "                     xytext=(2, 2),\n",
    "                     textcoords='offset points',\n",
    "                     ha='right',\n",
    "                     va='bottom')\n",
    "    plt.show()\n",
    "\n",
    "tsne_plot(glove_model)"
   ]
  },
  {
   "cell_type": "markdown",
   "id": "79ab5c3d",
   "metadata": {},
   "source": [
    "# END"
   ]
  }
 ],
 "metadata": {
  "kernelspec": {
   "display_name": "Python 3",
   "language": "python",
   "name": "python3"
  },
  "language_info": {
   "codemirror_mode": {
    "name": "ipython",
    "version": 3
   },
   "file_extension": ".py",
   "mimetype": "text/x-python",
   "name": "python",
   "nbconvert_exporter": "python",
   "pygments_lexer": "ipython3",
   "version": "3.8.8"
  }
 },
 "nbformat": 4,
 "nbformat_minor": 5
}
