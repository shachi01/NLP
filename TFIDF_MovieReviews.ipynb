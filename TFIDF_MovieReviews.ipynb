{
 "cells": [
  {
   "cell_type": "markdown",
   "id": "996c4261",
   "metadata": {},
   "source": [
    "# TfIdf model (Movie reviews)"
   ]
  },
  {
   "cell_type": "code",
   "execution_count": 1,
   "id": "cc9d358e",
   "metadata": {},
   "outputs": [],
   "source": [
    "from sklearn.feature_extraction.text import TfidfVectorizer\n",
    "import pandas as pd\n",
    "from sklearn.linear_model import LogisticRegression\n",
    "from sklearn.metrics import classification_report, accuracy_score\n",
    "from sklearn.model_selection import GridSearchCV\n",
    "from sklearn.pipeline import Pipeline\n",
    "from sklearn.model_selection import cross_val_score\n",
    "import numpy as np\n",
    "import warnings\n",
    "warnings.filterwarnings('ignore')"
   ]
  },
  {
   "cell_type": "markdown",
   "id": "a193c8ea",
   "metadata": {},
   "source": [
    "## Read data"
   ]
  },
  {
   "cell_type": "code",
   "execution_count": 2,
   "id": "343715b6",
   "metadata": {
    "scrolled": true
   },
   "outputs": [
    {
     "data": {
      "text/html": [
       "<div>\n",
       "<style scoped>\n",
       "    .dataframe tbody tr th:only-of-type {\n",
       "        vertical-align: middle;\n",
       "    }\n",
       "\n",
       "    .dataframe tbody tr th {\n",
       "        vertical-align: top;\n",
       "    }\n",
       "\n",
       "    .dataframe thead th {\n",
       "        text-align: right;\n",
       "    }\n",
       "</style>\n",
       "<table border=\"1\" class=\"dataframe\">\n",
       "  <thead>\n",
       "    <tr style=\"text-align: right;\">\n",
       "      <th></th>\n",
       "      <th>label</th>\n",
       "      <th>review</th>\n",
       "    </tr>\n",
       "  </thead>\n",
       "  <tbody>\n",
       "    <tr>\n",
       "      <th>0</th>\n",
       "      <td>neg</td>\n",
       "      <td>how do films like mouse hunt get into theatres...</td>\n",
       "    </tr>\n",
       "    <tr>\n",
       "      <th>1</th>\n",
       "      <td>neg</td>\n",
       "      <td>some talented actresses are blessed with a dem...</td>\n",
       "    </tr>\n",
       "    <tr>\n",
       "      <th>2</th>\n",
       "      <td>pos</td>\n",
       "      <td>this has been an extraordinary year for austra...</td>\n",
       "    </tr>\n",
       "    <tr>\n",
       "      <th>3</th>\n",
       "      <td>pos</td>\n",
       "      <td>according to hollywood movies made in last few...</td>\n",
       "    </tr>\n",
       "    <tr>\n",
       "      <th>4</th>\n",
       "      <td>neg</td>\n",
       "      <td>my first press screening of 1998 and already i...</td>\n",
       "    </tr>\n",
       "  </tbody>\n",
       "</table>\n",
       "</div>"
      ],
      "text/plain": [
       "  label                                             review\n",
       "0   neg  how do films like mouse hunt get into theatres...\n",
       "1   neg  some talented actresses are blessed with a dem...\n",
       "2   pos  this has been an extraordinary year for austra...\n",
       "3   pos  according to hollywood movies made in last few...\n",
       "4   neg  my first press screening of 1998 and already i..."
      ]
     },
     "execution_count": 2,
     "metadata": {},
     "output_type": "execute_result"
    }
   ],
   "source": [
    "df = pd.read_csv('../moviereviews.tsv', sep='\\t')\n",
    "df.head()"
   ]
  },
  {
   "cell_type": "code",
   "execution_count": 3,
   "id": "687eea34",
   "metadata": {},
   "outputs": [
    {
     "data": {
      "text/plain": [
       "pos    1000\n",
       "neg    1000\n",
       "Name: label, dtype: int64"
      ]
     },
     "execution_count": 3,
     "metadata": {},
     "output_type": "execute_result"
    }
   ],
   "source": [
    "#np.bincount(df.label)\n",
    "df['label'].value_counts()"
   ]
  },
  {
   "cell_type": "code",
   "execution_count": 4,
   "id": "2bdaf16f",
   "metadata": {},
   "outputs": [
    {
     "data": {
      "text/plain": [
       "label      0\n",
       "review    35\n",
       "dtype: int64"
      ]
     },
     "execution_count": 4,
     "metadata": {},
     "output_type": "execute_result"
    }
   ],
   "source": [
    "df.isnull().sum()"
   ]
  },
  {
   "cell_type": "code",
   "execution_count": 5,
   "id": "a88374c9",
   "metadata": {},
   "outputs": [],
   "source": [
    "df = df.dropna()"
   ]
  },
  {
   "cell_type": "code",
   "execution_count": 6,
   "id": "7f7bcf64",
   "metadata": {},
   "outputs": [
    {
     "data": {
      "text/plain": [
       "(1965, 2)"
      ]
     },
     "execution_count": 6,
     "metadata": {},
     "output_type": "execute_result"
    }
   ],
   "source": [
    "df.shape"
   ]
  },
  {
   "cell_type": "markdown",
   "id": "1d2ad27c",
   "metadata": {},
   "source": [
    "## Split data into train and test"
   ]
  },
  {
   "cell_type": "code",
   "execution_count": 7,
   "id": "04613006",
   "metadata": {},
   "outputs": [],
   "source": [
    "def split_data(data,y,length,split_mark=0.8):\n",
    "    if split_mark > 0. and split_mark<1.0:\n",
    "        n = int(split_mark*length)\n",
    "    else:\n",
    "        n = int(split_mark)\n",
    "    xtrain = data[:n].copy()\n",
    "    xtest = data[n:].copy()\n",
    "    ytrain = y[:n].copy()\n",
    "    ytest = y[n:].copy()\n",
    "    return xtrain, xtest, ytrain, ytest"
   ]
  },
  {
   "cell_type": "code",
   "execution_count": 8,
   "id": "871b1c9e",
   "metadata": {},
   "outputs": [
    {
     "name": "stdout",
     "output_type": "stream",
     "text": [
      "(1572,) (393,)\n"
     ]
    }
   ],
   "source": [
    "xtrain, xtest, ytrain, ytest = split_data(df.review, df.label, len(df))\n",
    "print(xtrain.shape, xtest.shape)"
   ]
  },
  {
   "cell_type": "markdown",
   "id": "c2ae56dc",
   "metadata": {},
   "source": [
    "## Separate Steps"
   ]
  },
  {
   "cell_type": "markdown",
   "id": "326b7968",
   "metadata": {},
   "source": [
    "### Feature Extraction"
   ]
  },
  {
   "cell_type": "code",
   "execution_count": 9,
   "id": "41655f3f",
   "metadata": {},
   "outputs": [],
   "source": [
    "vectorizer = TfidfVectorizer()"
   ]
  },
  {
   "cell_type": "code",
   "execution_count": 10,
   "id": "9e30af99",
   "metadata": {},
   "outputs": [],
   "source": [
    "xtrain_tfidf = vectorizer.fit_transform(xtrain)\n",
    "xtest_tfidf = vectorizer.transform(xtest)"
   ]
  },
  {
   "cell_type": "code",
   "execution_count": 11,
   "id": "847f343b",
   "metadata": {},
   "outputs": [
    {
     "data": {
      "text/plain": [
       "(1572, 35629)"
      ]
     },
     "execution_count": 11,
     "metadata": {},
     "output_type": "execute_result"
    }
   ],
   "source": [
    "xtrain_tfidf.shape"
   ]
  },
  {
   "cell_type": "code",
   "execution_count": 12,
   "id": "b0a7ca02",
   "metadata": {},
   "outputs": [],
   "source": [
    "feature_names = vectorizer.get_feature_names()"
   ]
  },
  {
   "cell_type": "code",
   "execution_count": 13,
   "id": "edf33de7",
   "metadata": {
    "scrolled": true
   },
   "outputs": [
    {
     "data": {
      "text/plain": [
       "['mastering',\n",
       " 'masterless',\n",
       " 'mastermind',\n",
       " 'masterminded',\n",
       " 'masterminds',\n",
       " 'masterpeice',\n",
       " 'masterpiece',\n",
       " 'masterpieces',\n",
       " 'masters',\n",
       " 'masterson',\n",
       " 'masterwork',\n",
       " 'mastery',\n",
       " 'mastrantonio',\n",
       " 'masturbates',\n",
       " 'masturbation',\n",
       " 'masturbatory',\n",
       " 'masur',\n",
       " 'mat',\n",
       " 'matador',\n",
       " 'matarazzo']"
      ]
     },
     "execution_count": 13,
     "metadata": {},
     "output_type": "execute_result"
    }
   ],
   "source": [
    "feature_names[19500:19520]"
   ]
  },
  {
   "cell_type": "code",
   "execution_count": 14,
   "id": "e3160858",
   "metadata": {},
   "outputs": [
    {
     "data": {
      "text/plain": [
       "(1572,)"
      ]
     },
     "execution_count": 14,
     "metadata": {},
     "output_type": "execute_result"
    }
   ],
   "source": [
    "xtrain.shape"
   ]
  },
  {
   "cell_type": "code",
   "execution_count": 15,
   "id": "9688c620",
   "metadata": {},
   "outputs": [
    {
     "data": {
      "text/plain": [
       "array([[0.        , 0.        , 0.        , ..., 0.        , 0.        ,\n",
       "        0.        ],\n",
       "       [0.        , 0.        , 0.        , ..., 0.        , 0.        ,\n",
       "        0.        ],\n",
       "       [0.        , 0.03284895, 0.        , ..., 0.        , 0.        ,\n",
       "        0.        ],\n",
       "       ...,\n",
       "       [0.        , 0.        , 0.        , ..., 0.        , 0.        ,\n",
       "        0.        ],\n",
       "       [0.        , 0.        , 0.        , ..., 0.        , 0.        ,\n",
       "        0.        ],\n",
       "       [0.        , 0.        , 0.        , ..., 0.        , 0.        ,\n",
       "        0.        ]])"
      ]
     },
     "execution_count": 15,
     "metadata": {},
     "output_type": "execute_result"
    }
   ],
   "source": [
    "xtrain_tfidf.toarray()"
   ]
  },
  {
   "cell_type": "markdown",
   "id": "90817b52",
   "metadata": {},
   "source": [
    "### Model Training & Prediction"
   ]
  },
  {
   "cell_type": "code",
   "execution_count": 16,
   "id": "af5da403",
   "metadata": {},
   "outputs": [],
   "source": [
    "parameters = {'C':[0.001,0.01,0.1,1,10], 'max_iter':[50, 75, 100, 150]}\n",
    "gs_clf = GridSearchCV(estimator=LogisticRegression(),param_grid=parameters, n_jobs=-1, cv=5)"
   ]
  },
  {
   "cell_type": "code",
   "execution_count": 17,
   "id": "50e0f94e",
   "metadata": {},
   "outputs": [
    {
     "name": "stdout",
     "output_type": "stream",
     "text": [
      "MEan score:0.84\n"
     ]
    }
   ],
   "source": [
    "scores = cross_val_score(estimator=gs_clf, X=xtrain_tfidf, y=ytrain ,cv=5)\n",
    "print(\"MEan score:{:.2f}\".format(np.mean(scores)))"
   ]
  },
  {
   "cell_type": "code",
   "execution_count": 18,
   "id": "5b0680b6",
   "metadata": {
    "scrolled": true
   },
   "outputs": [],
   "source": [
    "log_model = gs_clf.fit(xtrain_tfidf, ytrain)"
   ]
  },
  {
   "cell_type": "code",
   "execution_count": 19,
   "id": "b6f1889d",
   "metadata": {},
   "outputs": [],
   "source": [
    "preds = log_model.predict(xtest_tfidf)"
   ]
  },
  {
   "cell_type": "code",
   "execution_count": 20,
   "id": "54167cde",
   "metadata": {},
   "outputs": [
    {
     "data": {
      "text/plain": [
       "0.8320610687022901"
      ]
     },
     "execution_count": 20,
     "metadata": {},
     "output_type": "execute_result"
    }
   ],
   "source": [
    "accuracy_score(ytest, preds)"
   ]
  },
  {
   "cell_type": "markdown",
   "id": "cc87e52f",
   "metadata": {},
   "source": [
    "### Single data prediction"
   ]
  },
  {
   "cell_type": "code",
   "execution_count": 21,
   "id": "7fe42dee",
   "metadata": {},
   "outputs": [],
   "source": [
    "raw = df['review'][2]\n",
    "data = vectorizer.transform([raw])"
   ]
  },
  {
   "cell_type": "code",
   "execution_count": 22,
   "id": "242b323e",
   "metadata": {},
   "outputs": [
    {
     "data": {
      "text/plain": [
       "(1, 35629)"
      ]
     },
     "execution_count": 22,
     "metadata": {},
     "output_type": "execute_result"
    }
   ],
   "source": [
    "# 35629 unique words as features\n",
    "data.shape"
   ]
  },
  {
   "cell_type": "code",
   "execution_count": 23,
   "id": "5c99ab21",
   "metadata": {},
   "outputs": [
    {
     "data": {
      "text/plain": [
       "array(['pos'], dtype=object)"
      ]
     },
     "execution_count": 23,
     "metadata": {},
     "output_type": "execute_result"
    }
   ],
   "source": [
    "log_model.predict(data)"
   ]
  },
  {
   "cell_type": "code",
   "execution_count": 24,
   "id": "8d7e542f",
   "metadata": {},
   "outputs": [
    {
     "data": {
      "text/plain": [
       "'pos'"
      ]
     },
     "execution_count": 24,
     "metadata": {},
     "output_type": "execute_result"
    }
   ],
   "source": [
    "df['label'][2]"
   ]
  },
  {
   "cell_type": "markdown",
   "id": "568cf48e",
   "metadata": {},
   "source": [
    "Now, let's summarise all these steps as in a pipeline object."
   ]
  },
  {
   "cell_type": "markdown",
   "id": "c65311d5",
   "metadata": {},
   "source": [
    "## Pipeline methodology"
   ]
  },
  {
   "cell_type": "code",
   "execution_count": 25,
   "id": "3ae0748a",
   "metadata": {},
   "outputs": [],
   "source": [
    "t = Pipeline([\n",
    "    ('vect',TfidfVectorizer()),\n",
    "    ('clf',LogisticRegression())])"
   ]
  },
  {
   "cell_type": "code",
   "execution_count": 26,
   "id": "bee2891f",
   "metadata": {},
   "outputs": [
    {
     "data": {
      "text/plain": [
       "Pipeline(steps=[('vect', TfidfVectorizer()), ('clf', LogisticRegression())])"
      ]
     },
     "execution_count": 26,
     "metadata": {},
     "output_type": "execute_result"
    }
   ],
   "source": [
    "t.fit(xtrain, ytrain)"
   ]
  },
  {
   "cell_type": "code",
   "execution_count": 27,
   "id": "9c7906b7",
   "metadata": {
    "scrolled": true
   },
   "outputs": [
    {
     "data": {
      "text/plain": [
       "0.8040712468193384"
      ]
     },
     "execution_count": 27,
     "metadata": {},
     "output_type": "execute_result"
    }
   ],
   "source": [
    "#np.mean(preds==ytest)\n",
    "t.score(xtest,ytest)"
   ]
  },
  {
   "cell_type": "markdown",
   "id": "a52ea37e",
   "metadata": {},
   "source": [
    "### Hyper-parameter Tuning"
   ]
  },
  {
   "cell_type": "code",
   "execution_count": 28,
   "id": "5d01a426",
   "metadata": {},
   "outputs": [],
   "source": [
    "pipe = Pipeline([\n",
    "    ('vect',TfidfVectorizer()),\n",
    "    ('gs_clf',gs_clf)])"
   ]
  },
  {
   "cell_type": "code",
   "execution_count": 29,
   "id": "90802d29",
   "metadata": {},
   "outputs": [
    {
     "data": {
      "text/plain": [
       "GridSearchCV(cv=5, estimator=LogisticRegression(), n_jobs=-1,\n",
       "             param_grid={'C': [0.001, 0.01, 0.1, 1, 10],\n",
       "                         'max_iter': [50, 75, 100, 150]})"
      ]
     },
     "execution_count": 29,
     "metadata": {},
     "output_type": "execute_result"
    }
   ],
   "source": [
    "gs_clf"
   ]
  },
  {
   "cell_type": "code",
   "execution_count": 30,
   "id": "c41393f3",
   "metadata": {},
   "outputs": [],
   "source": [
    "tuned_model = pipe.fit(xtrain,ytrain)"
   ]
  },
  {
   "cell_type": "code",
   "execution_count": 31,
   "id": "6fedda53",
   "metadata": {},
   "outputs": [
    {
     "data": {
      "text/plain": [
       "0.8320610687022901"
      ]
     },
     "execution_count": 31,
     "metadata": {},
     "output_type": "execute_result"
    }
   ],
   "source": [
    "tuned_model.score(xtest,ytest)"
   ]
  },
  {
   "cell_type": "markdown",
   "id": "58c3b3ff",
   "metadata": {},
   "source": [
    "## Model Evaluation"
   ]
  },
  {
   "cell_type": "code",
   "execution_count": 32,
   "id": "47e94deb",
   "metadata": {},
   "outputs": [],
   "source": [
    "preds = tuned_model.predict(xtest)"
   ]
  },
  {
   "cell_type": "code",
   "execution_count": 33,
   "id": "d8ff35c7",
   "metadata": {},
   "outputs": [
    {
     "data": {
      "text/plain": [
       "0.8320610687022901"
      ]
     },
     "execution_count": 33,
     "metadata": {},
     "output_type": "execute_result"
    }
   ],
   "source": [
    "accuracy_score(ytest, preds)"
   ]
  },
  {
   "cell_type": "code",
   "execution_count": 34,
   "id": "f2dd393c",
   "metadata": {},
   "outputs": [
    {
     "name": "stdout",
     "output_type": "stream",
     "text": [
      "              precision    recall  f1-score   support\n",
      "\n",
      "         neg       0.82      0.87      0.84       201\n",
      "         pos       0.85      0.80      0.82       192\n",
      "\n",
      "    accuracy                           0.83       393\n",
      "   macro avg       0.83      0.83      0.83       393\n",
      "weighted avg       0.83      0.83      0.83       393\n",
      "\n"
     ]
    }
   ],
   "source": [
    "print(classification_report(ytest, preds))"
   ]
  },
  {
   "cell_type": "markdown",
   "id": "6515e3e1",
   "metadata": {},
   "source": [
    "### Raw data prediction\n",
    "We havent performed any text-preprocessing hence, can directly predict over the pipeline model"
   ]
  },
  {
   "cell_type": "code",
   "execution_count": 35,
   "id": "6497cfcc",
   "metadata": {},
   "outputs": [
    {
     "data": {
      "text/plain": [
       "array(['pos'], dtype=object)"
      ]
     },
     "execution_count": 35,
     "metadata": {},
     "output_type": "execute_result"
    }
   ],
   "source": [
    "tuned_model.predict([\" Not best\"])"
   ]
  },
  {
   "cell_type": "markdown",
   "id": "508cf8bc",
   "metadata": {},
   "source": [
    "# END"
   ]
  }
 ],
 "metadata": {
  "kernelspec": {
   "display_name": "Python 3",
   "language": "python",
   "name": "python3"
  },
  "language_info": {
   "codemirror_mode": {
    "name": "ipython",
    "version": 3
   },
   "file_extension": ".py",
   "mimetype": "text/x-python",
   "name": "python",
   "nbconvert_exporter": "python",
   "pygments_lexer": "ipython3",
   "version": "3.8.8"
  }
 },
 "nbformat": 4,
 "nbformat_minor": 5
}
