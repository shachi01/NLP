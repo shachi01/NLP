{
 "cells": [
  {
   "cell_type": "markdown",
   "metadata": {},
   "source": [
    "# Stock Price Prediction"
   ]
  },
  {
   "cell_type": "markdown",
   "metadata": {},
   "source": [
    "Aim: Create a LSTM model to predict the \"Close\" stock price of Apple Inc using past 60 days data"
   ]
  },
  {
   "cell_type": "code",
   "execution_count": 1,
   "metadata": {},
   "outputs": [
    {
     "name": "stderr",
     "output_type": "stream",
     "text": [
      "Using TensorFlow backend.\n"
     ]
    }
   ],
   "source": [
    "import pandas as pd\n",
    "import matplotlib.pyplot as plt\n",
    "from sklearn.preprocessing import MinMaxScaler\n",
    "import numpy as np\n",
    "from keras.models import Sequential\n",
    "from keras.layers import Dense, LSTM\n",
    "import math\n",
    "import pandas_datareader as web\n",
    "plt.style.use('fivethirtyeight')"
   ]
  },
  {
   "cell_type": "markdown",
   "metadata": {},
   "source": [
    "# Import Data\n",
    "- Get the stock quote using Yahoo Finance API\n",
    "- Data from 2012 to Dec 17,2019"
   ]
  },
  {
   "cell_type": "code",
   "execution_count": 2,
   "metadata": {
    "scrolled": false
   },
   "outputs": [
    {
     "data": {
      "text/html": [
       "<div>\n",
       "<style scoped>\n",
       "    .dataframe tbody tr th:only-of-type {\n",
       "        vertical-align: middle;\n",
       "    }\n",
       "\n",
       "    .dataframe tbody tr th {\n",
       "        vertical-align: top;\n",
       "    }\n",
       "\n",
       "    .dataframe thead th {\n",
       "        text-align: right;\n",
       "    }\n",
       "</style>\n",
       "<table border=\"1\" class=\"dataframe\">\n",
       "  <thead>\n",
       "    <tr style=\"text-align: right;\">\n",
       "      <th></th>\n",
       "      <th>High</th>\n",
       "      <th>Low</th>\n",
       "      <th>Open</th>\n",
       "      <th>Close</th>\n",
       "      <th>Volume</th>\n",
       "      <th>Adj Close</th>\n",
       "    </tr>\n",
       "    <tr>\n",
       "      <th>Date</th>\n",
       "      <th></th>\n",
       "      <th></th>\n",
       "      <th></th>\n",
       "      <th></th>\n",
       "      <th></th>\n",
       "      <th></th>\n",
       "    </tr>\n",
       "  </thead>\n",
       "  <tbody>\n",
       "    <tr>\n",
       "      <th>2012-01-03</th>\n",
       "      <td>14.732142</td>\n",
       "      <td>14.607142</td>\n",
       "      <td>14.621428</td>\n",
       "      <td>14.686786</td>\n",
       "      <td>302220800.0</td>\n",
       "      <td>12.669562</td>\n",
       "    </tr>\n",
       "    <tr>\n",
       "      <th>2012-01-04</th>\n",
       "      <td>14.810000</td>\n",
       "      <td>14.617143</td>\n",
       "      <td>14.642858</td>\n",
       "      <td>14.765715</td>\n",
       "      <td>260022000.0</td>\n",
       "      <td>12.737655</td>\n",
       "    </tr>\n",
       "    <tr>\n",
       "      <th>2012-01-05</th>\n",
       "      <td>14.948215</td>\n",
       "      <td>14.738214</td>\n",
       "      <td>14.819643</td>\n",
       "      <td>14.929643</td>\n",
       "      <td>271269600.0</td>\n",
       "      <td>12.879071</td>\n",
       "    </tr>\n",
       "    <tr>\n",
       "      <th>2012-01-06</th>\n",
       "      <td>15.098214</td>\n",
       "      <td>14.972143</td>\n",
       "      <td>14.991786</td>\n",
       "      <td>15.085714</td>\n",
       "      <td>318292800.0</td>\n",
       "      <td>13.013705</td>\n",
       "    </tr>\n",
       "    <tr>\n",
       "      <th>2012-01-09</th>\n",
       "      <td>15.276786</td>\n",
       "      <td>15.048214</td>\n",
       "      <td>15.196428</td>\n",
       "      <td>15.061786</td>\n",
       "      <td>394024400.0</td>\n",
       "      <td>12.993064</td>\n",
       "    </tr>\n",
       "  </tbody>\n",
       "</table>\n",
       "</div>"
      ],
      "text/plain": [
       "                 High        Low       Open      Close       Volume  Adj Close\n",
       "Date                                                                          \n",
       "2012-01-03  14.732142  14.607142  14.621428  14.686786  302220800.0  12.669562\n",
       "2012-01-04  14.810000  14.617143  14.642858  14.765715  260022000.0  12.737655\n",
       "2012-01-05  14.948215  14.738214  14.819643  14.929643  271269600.0  12.879071\n",
       "2012-01-06  15.098214  14.972143  14.991786  15.085714  318292800.0  13.013705\n",
       "2012-01-09  15.276786  15.048214  15.196428  15.061786  394024400.0  12.993064"
      ]
     },
     "execution_count": 2,
     "metadata": {},
     "output_type": "execute_result"
    }
   ],
   "source": [
    "df=  web.DataReader('AAPL',data_source='yahoo', start='2012-01-01', end='2019-12-17')\n",
    "df.head()"
   ]
  },
  {
   "cell_type": "markdown",
   "metadata": {},
   "source": [
    "- Open: Starting price \n",
    "- Close: Final price\n",
    "- High: Highest price that day\n",
    "- Low: Highest price that day"
   ]
  },
  {
   "cell_type": "code",
   "execution_count": 3,
   "metadata": {
    "scrolled": true
   },
   "outputs": [
    {
     "data": {
      "text/plain": [
       "(2003, 6)"
      ]
     },
     "execution_count": 3,
     "metadata": {},
     "output_type": "execute_result"
    }
   ],
   "source": [
    "df.shape"
   ]
  },
  {
   "cell_type": "markdown",
   "metadata": {},
   "source": [
    "# Visual Insight\n",
    "Trend of closing price per the years"
   ]
  },
  {
   "cell_type": "code",
   "execution_count": 4,
   "metadata": {},
   "outputs": [
    {
     "data": {
      "image/png": "[encoded data removed]",
      "text/plain": [
       "<Figure size 720x288 with 1 Axes>"
      ]
     },
     "metadata": {
      "needs_background": "light"
     },
     "output_type": "display_data"
    }
   ],
   "source": [
    "df['Close'].plot(figsize=(10,4), legend=True)\n",
    "plt.legend('Close Price @Apple')\n",
    "plt.title('Close Price History')\n",
    "plt.xlabel('Date')\n",
    "plt.ylabel('Close Price ($)')\n",
    "plt.show()"
   ]
  },
  {
   "cell_type": "markdown",
   "metadata": {},
   "source": [
    "Let's predict the close price. Hence, datafaming the Close column"
   ]
  },
  {
   "cell_type": "code",
   "execution_count": 5,
   "metadata": {},
   "outputs": [],
   "source": [
    "df = df[['Close']]\n",
    "df_array = df.values"
   ]
  },
  {
   "cell_type": "code",
   "execution_count": 6,
   "metadata": {},
   "outputs": [],
   "source": [
    "#train_data = df[:'2015'].values\n",
    "#test_data = df['2016':'2017'].values\n",
    "train_data_len = math.ceil(len(df)*0.8)"
   ]
  },
  {
   "cell_type": "code",
   "execution_count": 7,
   "metadata": {
    "scrolled": true
   },
   "outputs": [
    {
     "data": {
      "text/plain": [
       "1603"
      ]
     },
     "execution_count": 7,
     "metadata": {},
     "output_type": "execute_result"
    }
   ],
   "source": [
    "train_data_len"
   ]
  },
  {
   "cell_type": "code",
   "execution_count": 8,
   "metadata": {
    "scrolled": true
   },
   "outputs": [],
   "source": [
    "#train_data = df_array[0:train_data_len , :]"
   ]
  },
  {
   "cell_type": "markdown",
   "metadata": {},
   "source": [
    "## Scale the train data"
   ]
  },
  {
   "cell_type": "code",
   "execution_count": 9,
   "metadata": {},
   "outputs": [],
   "source": [
    "sc = MinMaxScaler()\n",
    "#train_scaled = sc.fit_transform(train_data)\n",
    "scaled = sc.fit_transform(df)"
   ]
  },
  {
   "cell_type": "code",
   "execution_count": 10,
   "metadata": {
    "scrolled": false
   },
   "outputs": [
    {
     "data": {
      "text/plain": [
       "array([[0.01316509],\n",
       "       [0.01457064],\n",
       "       [0.01748985],\n",
       "       ...,\n",
       "       [0.97658263],\n",
       "       [0.99755134],\n",
       "       [1.        ]])"
      ]
     },
     "execution_count": 10,
     "metadata": {},
     "output_type": "execute_result"
    }
   ],
   "source": [
    "scaled"
   ]
  },
  {
   "cell_type": "markdown",
   "metadata": {},
   "source": [
    "# Prepare Training Data with the past 60 days\n",
    "- xtrain: 1st indexed array has index values from 0-59, 2nd has 1-60 and so on..\n",
    "- ytrain: 1st value would be 61st value(prediction of next day) and so one"
   ]
  },
  {
   "cell_type": "code",
   "execution_count": 11,
   "metadata": {
    "scrolled": true
   },
   "outputs": [],
   "source": [
    "xtrain, ytrain = [], []\n",
    "for i in range(60, len(scaled)):\n",
    "    #contain 60 values from pos 1 - 59. \n",
    "    xtrain.append(scaled[i-60:i])\n",
    "    #at poition 60\n",
    "    ytrain.append(scaled[i])"
   ]
  },
  {
   "cell_type": "code",
   "execution_count": 12,
   "metadata": {
    "scrolled": true
   },
   "outputs": [
    {
     "data": {
      "text/plain": [
       "array([0.13949272])"
      ]
     },
     "execution_count": 12,
     "metadata": {},
     "output_type": "execute_result"
    }
   ],
   "source": [
    "scaled[0:61][-1]"
   ]
  },
  {
   "cell_type": "code",
   "execution_count": 13,
   "metadata": {},
   "outputs": [
    {
     "data": {
      "text/plain": [
       "array([0.13949272])"
      ]
     },
     "execution_count": 13,
     "metadata": {},
     "output_type": "execute_result"
    }
   ],
   "source": [
    "scaled[60]"
   ]
  },
  {
   "cell_type": "code",
   "execution_count": 14,
   "metadata": {
    "scrolled": true
   },
   "outputs": [
    {
     "data": {
      "text/plain": [
       "array([0.14442805])"
      ]
     },
     "execution_count": 14,
     "metadata": {},
     "output_type": "execute_result"
    }
   ],
   "source": [
    "xtrain[0][-1]"
   ]
  },
  {
   "cell_type": "code",
   "execution_count": 15,
   "metadata": {
    "scrolled": true
   },
   "outputs": [
    {
     "data": {
      "text/plain": [
       "array([0.01457064])"
      ]
     },
     "execution_count": 15,
     "metadata": {},
     "output_type": "execute_result"
    }
   ],
   "source": [
    "xtrain[1][0]"
   ]
  },
  {
   "cell_type": "code",
   "execution_count": 16,
   "metadata": {
    "scrolled": true
   },
   "outputs": [
    {
     "data": {
      "text/plain": [
       "array([0.13949272])"
      ]
     },
     "execution_count": 16,
     "metadata": {},
     "output_type": "execute_result"
    }
   ],
   "source": [
    "ytrain[0]"
   ]
  },
  {
   "cell_type": "markdown",
   "metadata": {},
   "source": [
    "Convert list into arrays to be usedin LSTM model"
   ]
  },
  {
   "cell_type": "code",
   "execution_count": 17,
   "metadata": {},
   "outputs": [],
   "source": [
    "xtrain, ytrain = np.array(xtrain), np.array(ytrain)"
   ]
  },
  {
   "cell_type": "markdown",
   "metadata": {},
   "source": [
    "LSTM data should be in specific shape as (samples(rows), step(cols), features)"
   ]
  },
  {
   "cell_type": "code",
   "execution_count": 18,
   "metadata": {},
   "outputs": [
    {
     "data": {
      "text/plain": [
       "(1943, 60, 1)"
      ]
     },
     "execution_count": 18,
     "metadata": {},
     "output_type": "execute_result"
    }
   ],
   "source": [
    "xtrain.shape"
   ]
  },
  {
   "cell_type": "markdown",
   "metadata": {},
   "source": [
    "# Model Building"
   ]
  },
  {
   "cell_type": "code",
   "execution_count": 19,
   "metadata": {},
   "outputs": [],
   "source": [
    "regressor_model = Sequential()\n",
    "# Adding the first LSTM layer\n",
    "regressor_model.add(LSTM(units=50, return_sequences=True, input_shape = (xtrain.shape[1],1)))\n",
    "# Adding a second LSTM layer\n",
    "regressor_model.add(LSTM(units=50, return_sequences=True))\n",
    "regressor_model.add(LSTM(units=50, return_sequences=False))\n",
    "\n",
    "regressor_model.add(Dense(units=1))"
   ]
  },
  {
   "cell_type": "code",
   "execution_count": 20,
   "metadata": {},
   "outputs": [],
   "source": [
    "regressor_model.compile(optimizer='adam', metrics=['accuracy'], loss='mean_squared_error')"
   ]
  },
  {
   "cell_type": "code",
   "execution_count": 21,
   "metadata": {
    "scrolled": true
   },
   "outputs": [
    {
     "name": "stdout",
     "output_type": "stream",
     "text": [
      "Model: \"sequential_1\"\n",
      "_________________________________________________________________\n",
      "Layer (type)                 Output Shape              Param #   \n",
      "=================================================================\n",
      "lstm_1 (LSTM)                (None, 60, 50)            10400     \n",
      "_________________________________________________________________\n",
      "lstm_2 (LSTM)                (None, 60, 50)            20200     \n",
      "_________________________________________________________________\n",
      "lstm_3 (LSTM)                (None, 50)                20200     \n",
      "_________________________________________________________________\n",
      "dense_1 (Dense)              (None, 1)                 51        \n",
      "=================================================================\n",
      "Total params: 50,851\n",
      "Trainable params: 50,851\n",
      "Non-trainable params: 0\n",
      "_________________________________________________________________\n"
     ]
    }
   ],
   "source": [
    "regressor_model.summary()"
   ]
  },
  {
   "cell_type": "code",
   "execution_count": 22,
   "metadata": {
    "scrolled": true
   },
   "outputs": [
    {
     "name": "stdout",
     "output_type": "stream",
     "text": [
      "Epoch 1/15\n",
      "1943/1943 [==============================] - 11s 5ms/step - loss: 0.0066 - accuracy: 0.0010\n",
      "Epoch 2/15\n",
      "1943/1943 [==============================] - 9s 5ms/step - loss: 8.5367e-04 - accuracy: 0.0010\n",
      "Epoch 3/15\n",
      "1943/1943 [==============================] - 9s 5ms/step - loss: 7.7478e-04 - accuracy: 0.0010\n",
      "Epoch 4/15\n",
      "1943/1943 [==============================] - 9s 5ms/step - loss: 6.9020e-04 - accuracy: 0.0010\n",
      "Epoch 5/15\n",
      "1943/1943 [==============================] - 9s 5ms/step - loss: 7.3161e-04 - accuracy: 0.0010\n",
      "Epoch 6/15\n",
      "1943/1943 [==============================] - 9s 5ms/step - loss: 6.0101e-04 - accuracy: 0.0010\n",
      "Epoch 7/15\n",
      "1943/1943 [==============================] - 8s 4ms/step - loss: 4.9978e-04 - accuracy: 0.0010\n",
      "Epoch 8/15\n",
      "1943/1943 [==============================] - 8s 4ms/step - loss: 4.9800e-04 - accuracy: 0.0010\n",
      "Epoch 9/15\n",
      "1943/1943 [==============================] - 8s 4ms/step - loss: 4.4856e-04 - accuracy: 0.0010\n",
      "Epoch 10/15\n",
      "1943/1943 [==============================] - 8s 4ms/step - loss: 4.2674e-04 - accuracy: 0.0010\n",
      "Epoch 11/15\n",
      "1943/1943 [==============================] - 9s 5ms/step - loss: 5.0242e-04 - accuracy: 0.0010\n",
      "Epoch 12/15\n",
      "1943/1943 [==============================] - 9s 5ms/step - loss: 3.8954e-04 - accuracy: 0.0010\n",
      "Epoch 13/15\n",
      "1943/1943 [==============================] - 9s 4ms/step - loss: 4.2246e-04 - accuracy: 0.0010\n",
      "Epoch 14/15\n",
      "1943/1943 [==============================] - 9s 4ms/step - loss: 4.7237e-04 - accuracy: 0.0010\n",
      "Epoch 15/15\n",
      "1943/1943 [==============================] - 9s 5ms/step - loss: 3.3868e-04 - accuracy: 0.0010\n"
     ]
    },
    {
     "data": {
      "text/plain": [
       "<keras.callbacks.callbacks.History at 0x19e3b0d9fd0>"
      ]
     },
     "execution_count": 22,
     "metadata": {},
     "output_type": "execute_result"
    }
   ],
   "source": [
    "regressor_model.fit(xtrain, ytrain, epochs=15, batch_size=32)"
   ]
  },
  {
   "cell_type": "markdown",
   "metadata": {},
   "source": [
    "# Prepare Test Data\n",
    "Take the index direct after the train_data index. Since 60 days data is considered, hence, 1st index of xtest should be 60 past days and ytest be its 61st value"
   ]
  },
  {
   "cell_type": "code",
   "execution_count": 23,
   "metadata": {},
   "outputs": [
    {
     "data": {
      "text/plain": [
       "1603"
      ]
     },
     "execution_count": 23,
     "metadata": {},
     "output_type": "execute_result"
    }
   ],
   "source": [
    "train_data_len"
   ]
  },
  {
   "cell_type": "code",
   "execution_count": 24,
   "metadata": {},
   "outputs": [],
   "source": [
    "test_data = scaled[train_data_len - 60:, :]\n",
    "xtest = []\n",
    "ytest = df_array[train_data_len: , :]\n",
    "for i in range(60, len(test_data)):\n",
    "    xtest.append(test_data[i-60:i, 0])"
   ]
  },
  {
   "cell_type": "code",
   "execution_count": 26,
   "metadata": {},
   "outputs": [],
   "source": [
    "#xtest = sc.transform(xtest)"
   ]
  },
  {
   "cell_type": "code",
   "execution_count": 25,
   "metadata": {},
   "outputs": [],
   "source": [
    "xtest = np.array(xtest)"
   ]
  },
  {
   "cell_type": "code",
   "execution_count": 26,
   "metadata": {},
   "outputs": [
    {
     "data": {
      "text/plain": [
       "(400, 60)"
      ]
     },
     "execution_count": 26,
     "metadata": {},
     "output_type": "execute_result"
    }
   ],
   "source": [
    "xtest.shape"
   ]
  },
  {
   "cell_type": "markdown",
   "metadata": {},
   "source": [
    "LSTM data should be in specific shape as (samples(rows), step(cols), features)"
   ]
  },
  {
   "cell_type": "code",
   "execution_count": 27,
   "metadata": {
    "scrolled": true
   },
   "outputs": [],
   "source": [
    "xtest = np.reshape(xtest, (xtest.shape[0], xtest.shape[1],1))"
   ]
  },
  {
   "cell_type": "code",
   "execution_count": 28,
   "metadata": {},
   "outputs": [
    {
     "data": {
      "text/plain": [
       "(400, 60, 1)"
      ]
     },
     "execution_count": 28,
     "metadata": {},
     "output_type": "execute_result"
    }
   ],
   "source": [
    "xtest.shape"
   ]
  },
  {
   "cell_type": "markdown",
   "metadata": {},
   "source": [
    "# Model Predictions"
   ]
  },
  {
   "cell_type": "code",
   "execution_count": 29,
   "metadata": {},
   "outputs": [],
   "source": [
    "predictions = regressor_model.predict(xtest)"
   ]
  },
  {
   "cell_type": "code",
   "execution_count": 30,
   "metadata": {},
   "outputs": [],
   "source": [
    "predictions = sc.inverse_transform(predictions)"
   ]
  },
  {
   "cell_type": "code",
   "execution_count": 31,
   "metadata": {},
   "outputs": [
    {
     "data": {
      "text/plain": [
       "array([[47.506256],\n",
       "       [47.564724],\n",
       "       [47.45962 ],\n",
       "       [47.261734],\n",
       "       [47.013092],\n",
       "       [46.77073 ],\n",
       "       [46.558388],\n",
       "       [46.39495 ],\n",
       "       [46.27172 ],\n",
       "       [46.176914],\n",
       "       [46.09482 ],\n",
       "       [46.07839 ],\n",
       "       [46.155533],\n",
       "       [46.336216],\n",
       "       [46.602734],\n",
       "       [46.90717 ],\n",
       "       [47.178806],\n",
       "       [47.37871 ],\n",
       "       [47.51532 ],\n",
       "       [47.569008],\n",
       "       [47.551716],\n",
       "       [47.449997],\n",
       "       [47.283863],\n",
       "       [47.03176 ],\n",
       "       [46.736515],\n",
       "       [46.42007 ],\n",
       "       [46.10525 ],\n",
       "       [45.773235],\n",
       "       [45.480953],\n",
       "       [45.249092],\n",
       "       [45.108707],\n",
       "       [45.052517],\n",
       "       [45.09927 ],\n",
       "       [45.176987],\n",
       "       [45.279472],\n",
       "       [45.434536],\n",
       "       [45.673733],\n",
       "       [45.97224 ],\n",
       "       [46.252758],\n",
       "       [46.531796],\n",
       "       [46.80013 ],\n",
       "       [47.034416],\n",
       "       [47.229485],\n",
       "       [47.36108 ],\n",
       "       [47.45196 ],\n",
       "       [47.502487],\n",
       "       [47.520763],\n",
       "       [47.537224],\n",
       "       [47.58957 ],\n",
       "       [47.666378],\n",
       "       [47.698708],\n",
       "       [47.654808],\n",
       "       [47.548405],\n",
       "       [47.592926],\n",
       "       [47.91536 ],\n",
       "       [48.490498],\n",
       "       [49.244064],\n",
       "       [50.03138 ],\n",
       "       [50.751507],\n",
       "       [51.367268],\n",
       "       [51.821697],\n",
       "       [52.126934],\n",
       "       [52.31199 ],\n",
       "       [52.406357],\n",
       "       [52.48706 ],\n",
       "       [52.6495  ],\n",
       "       [52.850014],\n",
       "       [53.04602 ],\n",
       "       [53.208424],\n",
       "       [53.329075],\n",
       "       [53.41566 ],\n",
       "       [53.503067],\n",
       "       [53.62618 ],\n",
       "       [53.83992 ],\n",
       "       [54.1634  ],\n",
       "       [54.606075],\n",
       "       [55.12745 ],\n",
       "       [55.633038],\n",
       "       [55.988934],\n",
       "       [56.128166],\n",
       "       [56.00848 ],\n",
       "       [55.79025 ],\n",
       "       [55.49615 ],\n",
       "       [55.27684 ],\n",
       "       [55.11882 ],\n",
       "       [54.90299 ],\n",
       "       [54.630787],\n",
       "       [54.33124 ],\n",
       "       [54.069958],\n",
       "       [53.829727],\n",
       "       [53.68016 ],\n",
       "       [53.65662 ],\n",
       "       [53.71189 ],\n",
       "       [53.901352],\n",
       "       [54.21268 ],\n",
       "       [54.627636],\n",
       "       [55.131096],\n",
       "       [55.720886],\n",
       "       [56.25724 ],\n",
       "       [56.60485 ],\n",
       "       [56.73113 ],\n",
       "       [56.724937],\n",
       "       [56.431828],\n",
       "       [55.863567],\n",
       "       [55.267483],\n",
       "       [54.661877],\n",
       "       [54.19306 ],\n",
       "       [53.88066 ],\n",
       "       [53.620667],\n",
       "       [53.45385 ],\n",
       "       [53.403324],\n",
       "       [53.49471 ],\n",
       "       [53.55493 ],\n",
       "       [53.633255],\n",
       "       [53.663857],\n",
       "       [53.565334],\n",
       "       [53.37263 ],\n",
       "       [53.233196],\n",
       "       [53.25021 ],\n",
       "       [53.144608],\n",
       "       [52.772324],\n",
       "       [52.214035],\n",
       "       [51.680157],\n",
       "       [51.23432 ],\n",
       "       [50.83921 ],\n",
       "       [50.31862 ],\n",
       "       [49.655193],\n",
       "       [48.82346 ],\n",
       "       [47.991188],\n",
       "       [47.295246],\n",
       "       [46.666492],\n",
       "       [45.972443],\n",
       "       [45.23414 ],\n",
       "       [44.44191 ],\n",
       "       [43.696053],\n",
       "       [43.057823],\n",
       "       [42.669247],\n",
       "       [42.52456 ],\n",
       "       [42.571342],\n",
       "       [42.850876],\n",
       "       [43.18456 ],\n",
       "       [43.461468],\n",
       "       [43.54482 ],\n",
       "       [43.44891 ],\n",
       "       [43.20712 ],\n",
       "       [42.8859  ],\n",
       "       [42.571796],\n",
       "       [42.226723],\n",
       "       [41.845955],\n",
       "       [41.48824 ],\n",
       "       [41.10907 ],\n",
       "       [40.664257],\n",
       "       [40.092037],\n",
       "       [39.380146],\n",
       "       [38.73999 ],\n",
       "       [38.240635],\n",
       "       [37.90808 ],\n",
       "       [37.756145],\n",
       "       [37.762753],\n",
       "       [37.670666],\n",
       "       [37.51025 ],\n",
       "       [37.303925],\n",
       "       [37.12058 ],\n",
       "       [37.023685],\n",
       "       [37.02993 ],\n",
       "       [37.1045  ],\n",
       "       [37.187252],\n",
       "       [37.293938],\n",
       "       [37.442932],\n",
       "       [37.636658],\n",
       "       [37.870163],\n",
       "       [38.07163 ],\n",
       "       [38.22226 ],\n",
       "       [38.29897 ],\n",
       "       [38.37604 ],\n",
       "       [38.450836],\n",
       "       [38.497593],\n",
       "       [38.660225],\n",
       "       [38.966576],\n",
       "       [39.383587],\n",
       "       [39.92408 ],\n",
       "       [40.578354],\n",
       "       [41.28361 ],\n",
       "       [41.917507],\n",
       "       [42.40917 ],\n",
       "       [42.7185  ],\n",
       "       [42.874   ],\n",
       "       [42.895206],\n",
       "       [42.82512 ],\n",
       "       [42.69359 ],\n",
       "       [42.53782 ],\n",
       "       [42.39901 ],\n",
       "       [42.278034],\n",
       "       [42.207325],\n",
       "       [42.20782 ],\n",
       "       [42.27206 ],\n",
       "       [42.38887 ],\n",
       "       [42.50978 ],\n",
       "       [42.64039 ],\n",
       "       [42.78519 ],\n",
       "       [42.92984 ],\n",
       "       [43.046574],\n",
       "       [43.09486 ],\n",
       "       [43.08069 ],\n",
       "       [43.112713],\n",
       "       [43.24342 ],\n",
       "       [43.475914],\n",
       "       [43.809357],\n",
       "       [44.240307],\n",
       "       [44.75174 ],\n",
       "       [45.265984],\n",
       "       [45.754   ],\n",
       "       [46.295628],\n",
       "       [46.800465],\n",
       "       [47.181118],\n",
       "       [47.378025],\n",
       "       [47.425922],\n",
       "       [47.36513 ],\n",
       "       [47.25506 ],\n",
       "       [47.1514  ],\n",
       "       [47.121494],\n",
       "       [47.192207],\n",
       "       [47.35059 ],\n",
       "       [47.58525 ],\n",
       "       [47.913105],\n",
       "       [48.28641 ],\n",
       "       [48.677433],\n",
       "       [49.018135],\n",
       "       [49.275562],\n",
       "       [49.445873],\n",
       "       [49.534973],\n",
       "       [49.62456 ],\n",
       "       [49.74381 ],\n",
       "       [49.900055],\n",
       "       [50.12926 ],\n",
       "       [50.403492],\n",
       "       [50.652725],\n",
       "       [50.826355],\n",
       "       [50.917652],\n",
       "       [50.86311 ],\n",
       "       [50.858128],\n",
       "       [50.91809 ],\n",
       "       [51.08178 ],\n",
       "       [51.266003],\n",
       "       [51.32812 ],\n",
       "       [51.24907 ],\n",
       "       [51.01575 ],\n",
       "       [50.610916],\n",
       "       [49.893665],\n",
       "       [48.998642],\n",
       "       [48.09631 ],\n",
       "       [47.283035],\n",
       "       [46.605072],\n",
       "       [45.99373 ],\n",
       "       [45.514023],\n",
       "       [45.122147],\n",
       "       [44.76527 ],\n",
       "       [44.434204],\n",
       "       [44.131508],\n",
       "       [43.86071 ],\n",
       "       [43.651012],\n",
       "       [43.463573],\n",
       "       [43.270527],\n",
       "       [43.177055],\n",
       "       [43.24534 ],\n",
       "       [43.503616],\n",
       "       [43.98801 ],\n",
       "       [44.675907],\n",
       "       [45.516743],\n",
       "       [46.40276 ],\n",
       "       [47.23606 ],\n",
       "       [47.91934 ],\n",
       "       [48.42948 ],\n",
       "       [48.83998 ],\n",
       "       [49.15501 ],\n",
       "       [49.40409 ],\n",
       "       [49.578434],\n",
       "       [49.673634],\n",
       "       [49.641617],\n",
       "       [49.569008],\n",
       "       [49.48662 ],\n",
       "       [49.377422],\n",
       "       [49.31121 ],\n",
       "       [49.319256],\n",
       "       [49.422863],\n",
       "       [49.596283],\n",
       "       [49.729874],\n",
       "       [49.813053],\n",
       "       [49.87983 ],\n",
       "       [49.912144],\n",
       "       [49.939507],\n",
       "       [50.00299 ],\n",
       "       [50.090107],\n",
       "       [50.16713 ],\n",
       "       [50.262665],\n",
       "       [50.31782 ],\n",
       "       [50.40565 ],\n",
       "       [50.560642],\n",
       "       [50.766796],\n",
       "       [50.965984],\n",
       "       [51.14265 ],\n",
       "       [51.31882 ],\n",
       "       [51.471695],\n",
       "       [51.66856 ],\n",
       "       [51.819168],\n",
       "       [51.81949 ],\n",
       "       [51.477108],\n",
       "       [50.904278],\n",
       "       [50.25178 ],\n",
       "       [49.701984],\n",
       "       [49.278748],\n",
       "       [48.984257],\n",
       "       [48.95878 ],\n",
       "       [49.07433 ],\n",
       "       [49.244404],\n",
       "       [49.503593],\n",
       "       [49.89331 ],\n",
       "       [50.37586 ],\n",
       "       [50.934605],\n",
       "       [51.509266],\n",
       "       [51.86156 ],\n",
       "       [52.02074 ],\n",
       "       [51.976856],\n",
       "       [51.801525],\n",
       "       [51.617836],\n",
       "       [51.46916 ],\n",
       "       [51.315945],\n",
       "       [51.220955],\n",
       "       [51.265385],\n",
       "       [51.437748],\n",
       "       [51.713596],\n",
       "       [52.090782],\n",
       "       [52.64898 ],\n",
       "       [53.32445 ],\n",
       "       [53.948486],\n",
       "       [54.462822],\n",
       "       [54.849426],\n",
       "       [55.14228 ],\n",
       "       [55.31442 ],\n",
       "       [55.31041 ],\n",
       "       [55.171146],\n",
       "       [54.922592],\n",
       "       [54.6758  ],\n",
       "       [54.452393],\n",
       "       [54.24831 ],\n",
       "       [54.16857 ],\n",
       "       [54.22818 ],\n",
       "       [54.289814],\n",
       "       [54.3477  ],\n",
       "       [54.511272],\n",
       "       [54.776226],\n",
       "       [55.053795],\n",
       "       [55.350147],\n",
       "       [55.699535],\n",
       "       [56.196552],\n",
       "       [56.794785],\n",
       "       [57.409874],\n",
       "       [57.950745],\n",
       "       [58.385567],\n",
       "       [58.716965],\n",
       "       [59.025814],\n",
       "       [59.30268 ],\n",
       "       [59.598267],\n",
       "       [59.90442 ],\n",
       "       [60.254307],\n",
       "       [60.668343],\n",
       "       [60.983273],\n",
       "       [61.152473],\n",
       "       [61.290623],\n",
       "       [61.567245],\n",
       "       [62.010582],\n",
       "       [62.552525],\n",
       "       [63.11297 ],\n",
       "       [63.66683 ],\n",
       "       [64.1769  ],\n",
       "       [64.64648 ],\n",
       "       [65.04069 ],\n",
       "       [65.3902  ],\n",
       "       [65.64107 ],\n",
       "       [65.84929 ],\n",
       "       [66.0459  ],\n",
       "       [66.20534 ],\n",
       "       [66.24559 ],\n",
       "       [66.13965 ],\n",
       "       [65.91077 ],\n",
       "       [65.7068  ],\n",
       "       [65.52455 ],\n",
       "       [65.45234 ],\n",
       "       [65.476074],\n",
       "       [65.50107 ],\n",
       "       [65.396835],\n",
       "       [65.21646 ],\n",
       "       [65.083916],\n",
       "       [65.14347 ],\n",
       "       [65.30367 ],\n",
       "       [65.54762 ],\n",
       "       [65.88197 ],\n",
       "       [66.27778 ],\n",
       "       [66.76773 ],\n",
       "       [67.407074]], dtype=float32)"
      ]
     },
     "execution_count": 31,
     "metadata": {},
     "output_type": "execute_result"
    }
   ],
   "source": [
    "predictions"
   ]
  },
  {
   "cell_type": "markdown",
   "metadata": {},
   "source": [
    "# Model Evaluation"
   ]
  },
  {
   "cell_type": "code",
   "execution_count": 32,
   "metadata": {},
   "outputs": [
    {
     "data": {
      "text/plain": [
       "1.5780462487813112"
      ]
     },
     "execution_count": 32,
     "metadata": {},
     "output_type": "execute_result"
    }
   ],
   "source": [
    "rmse = np.sqrt(np.mean((predictions - ytest)**2))\n",
    "rmse"
   ]
  },
  {
   "cell_type": "code",
   "execution_count": 33,
   "metadata": {},
   "outputs": [
    {
     "name": "stderr",
     "output_type": "stream",
     "text": [
      "C:\\ProgramData\\Anaconda3\\lib\\site-packages\\ipykernel_launcher.py:3: SettingWithCopyWarning: \n",
      "A value is trying to be set on a copy of a slice from a DataFrame.\n",
      "Try using .loc[row_indexer,col_indexer] = value instead\n",
      "\n",
      "See the caveats in the documentation: http://pandas.pydata.org/pandas-docs/stable/indexing.html#indexing-view-versus-copy\n",
      "  This is separate from the ipykernel package so we can avoid doing imports until\n"
     ]
    }
   ],
   "source": [
    "train = df[:train_data_len]\n",
    "valid = df[train_data_len:]\n",
    "valid['Predictions'] = predictions"
   ]
  },
  {
   "cell_type": "code",
   "execution_count": 34,
   "metadata": {},
   "outputs": [
    {
     "data": {
      "image/png": "[encoded data removed]",
      "text/plain": [
       "<Figure size 720x288 with 1 Axes>"
      ]
     },
     "metadata": {
      "needs_background": "light"
     },
     "output_type": "display_data"
    }
   ],
   "source": [
    "plt.figure(figsize=(10,4))\n",
    "plt.title('Model')\n",
    "plt.xlabel('Date')\n",
    "plt.ylabel('Close PRice ($)')\n",
    "plt.plot(train['Close'])\n",
    "plt.plot(valid[['Close', 'Predictions']])\n",
    "plt.legend(['Train', 'Val', 'Preds'])\n",
    "plt.show()"
   ]
  },
  {
   "cell_type": "code",
   "execution_count": 35,
   "metadata": {
    "scrolled": true
   },
   "outputs": [
    {
     "data": {
      "text/html": [
       "<div>\n",
       "<style scoped>\n",
       "    .dataframe tbody tr th:only-of-type {\n",
       "        vertical-align: middle;\n",
       "    }\n",
       "\n",
       "    .dataframe tbody tr th {\n",
       "        vertical-align: top;\n",
       "    }\n",
       "\n",
       "    .dataframe thead th {\n",
       "        text-align: right;\n",
       "    }\n",
       "</style>\n",
       "<table border=\"1\" class=\"dataframe\">\n",
       "  <thead>\n",
       "    <tr style=\"text-align: right;\">\n",
       "      <th></th>\n",
       "      <th>Close</th>\n",
       "      <th>Predictions</th>\n",
       "    </tr>\n",
       "    <tr>\n",
       "      <th>Date</th>\n",
       "      <th></th>\n",
       "      <th></th>\n",
       "    </tr>\n",
       "  </thead>\n",
       "  <tbody>\n",
       "    <tr>\n",
       "      <th>2018-05-17</th>\n",
       "      <td>46.747501</td>\n",
       "      <td>47.506256</td>\n",
       "    </tr>\n",
       "    <tr>\n",
       "      <th>2018-05-18</th>\n",
       "      <td>46.577499</td>\n",
       "      <td>47.564724</td>\n",
       "    </tr>\n",
       "    <tr>\n",
       "      <th>2018-05-21</th>\n",
       "      <td>46.907501</td>\n",
       "      <td>47.459621</td>\n",
       "    </tr>\n",
       "    <tr>\n",
       "      <th>2018-05-22</th>\n",
       "      <td>46.790001</td>\n",
       "      <td>47.261734</td>\n",
       "    </tr>\n",
       "    <tr>\n",
       "      <th>2018-05-23</th>\n",
       "      <td>47.090000</td>\n",
       "      <td>47.013092</td>\n",
       "    </tr>\n",
       "    <tr>\n",
       "      <th>2018-05-24</th>\n",
       "      <td>47.037498</td>\n",
       "      <td>46.770729</td>\n",
       "    </tr>\n",
       "    <tr>\n",
       "      <th>2018-05-25</th>\n",
       "      <td>47.145000</td>\n",
       "      <td>46.558388</td>\n",
       "    </tr>\n",
       "    <tr>\n",
       "      <th>2018-05-29</th>\n",
       "      <td>46.974998</td>\n",
       "      <td>46.394951</td>\n",
       "    </tr>\n",
       "    <tr>\n",
       "      <th>2018-05-30</th>\n",
       "      <td>46.875000</td>\n",
       "      <td>46.271721</td>\n",
       "    </tr>\n",
       "    <tr>\n",
       "      <th>2018-05-31</th>\n",
       "      <td>46.717499</td>\n",
       "      <td>46.176914</td>\n",
       "    </tr>\n",
       "    <tr>\n",
       "      <th>2018-06-01</th>\n",
       "      <td>47.560001</td>\n",
       "      <td>46.094818</td>\n",
       "    </tr>\n",
       "    <tr>\n",
       "      <th>2018-06-04</th>\n",
       "      <td>47.957500</td>\n",
       "      <td>46.078388</td>\n",
       "    </tr>\n",
       "    <tr>\n",
       "      <th>2018-06-05</th>\n",
       "      <td>48.327499</td>\n",
       "      <td>46.155533</td>\n",
       "    </tr>\n",
       "    <tr>\n",
       "      <th>2018-06-06</th>\n",
       "      <td>48.494999</td>\n",
       "      <td>46.336216</td>\n",
       "    </tr>\n",
       "    <tr>\n",
       "      <th>2018-06-07</th>\n",
       "      <td>48.365002</td>\n",
       "      <td>46.602734</td>\n",
       "    </tr>\n",
       "    <tr>\n",
       "      <th>2018-06-08</th>\n",
       "      <td>47.924999</td>\n",
       "      <td>46.907169</td>\n",
       "    </tr>\n",
       "    <tr>\n",
       "      <th>2018-06-11</th>\n",
       "      <td>47.807499</td>\n",
       "      <td>47.178806</td>\n",
       "    </tr>\n",
       "    <tr>\n",
       "      <th>2018-06-12</th>\n",
       "      <td>48.070000</td>\n",
       "      <td>47.378712</td>\n",
       "    </tr>\n",
       "    <tr>\n",
       "      <th>2018-06-13</th>\n",
       "      <td>47.674999</td>\n",
       "      <td>47.515320</td>\n",
       "    </tr>\n",
       "    <tr>\n",
       "      <th>2018-06-14</th>\n",
       "      <td>47.700001</td>\n",
       "      <td>47.569008</td>\n",
       "    </tr>\n",
       "    <tr>\n",
       "      <th>2018-06-15</th>\n",
       "      <td>47.209999</td>\n",
       "      <td>47.551716</td>\n",
       "    </tr>\n",
       "    <tr>\n",
       "      <th>2018-06-18</th>\n",
       "      <td>47.185001</td>\n",
       "      <td>47.449997</td>\n",
       "    </tr>\n",
       "    <tr>\n",
       "      <th>2018-06-19</th>\n",
       "      <td>46.422501</td>\n",
       "      <td>47.283863</td>\n",
       "    </tr>\n",
       "    <tr>\n",
       "      <th>2018-06-20</th>\n",
       "      <td>46.625000</td>\n",
       "      <td>47.031761</td>\n",
       "    </tr>\n",
       "    <tr>\n",
       "      <th>2018-06-21</th>\n",
       "      <td>46.365002</td>\n",
       "      <td>46.736515</td>\n",
       "    </tr>\n",
       "    <tr>\n",
       "      <th>2018-06-22</th>\n",
       "      <td>46.230000</td>\n",
       "      <td>46.420071</td>\n",
       "    </tr>\n",
       "    <tr>\n",
       "      <th>2018-06-25</th>\n",
       "      <td>45.542500</td>\n",
       "      <td>46.105251</td>\n",
       "    </tr>\n",
       "    <tr>\n",
       "      <th>2018-06-26</th>\n",
       "      <td>46.107498</td>\n",
       "      <td>45.773235</td>\n",
       "    </tr>\n",
       "    <tr>\n",
       "      <th>2018-06-27</th>\n",
       "      <td>46.040001</td>\n",
       "      <td>45.480953</td>\n",
       "    </tr>\n",
       "    <tr>\n",
       "      <th>2018-06-28</th>\n",
       "      <td>46.375000</td>\n",
       "      <td>45.249092</td>\n",
       "    </tr>\n",
       "    <tr>\n",
       "      <th>...</th>\n",
       "      <td>...</td>\n",
       "      <td>...</td>\n",
       "    </tr>\n",
       "    <tr>\n",
       "      <th>2019-11-05</th>\n",
       "      <td>64.282501</td>\n",
       "      <td>62.010582</td>\n",
       "    </tr>\n",
       "    <tr>\n",
       "      <th>2019-11-06</th>\n",
       "      <td>64.309998</td>\n",
       "      <td>62.552525</td>\n",
       "    </tr>\n",
       "    <tr>\n",
       "      <th>2019-11-07</th>\n",
       "      <td>64.857498</td>\n",
       "      <td>63.112968</td>\n",
       "    </tr>\n",
       "    <tr>\n",
       "      <th>2019-11-08</th>\n",
       "      <td>65.035004</td>\n",
       "      <td>63.666828</td>\n",
       "    </tr>\n",
       "    <tr>\n",
       "      <th>2019-11-11</th>\n",
       "      <td>65.550003</td>\n",
       "      <td>64.176903</td>\n",
       "    </tr>\n",
       "    <tr>\n",
       "      <th>2019-11-12</th>\n",
       "      <td>65.489998</td>\n",
       "      <td>64.646477</td>\n",
       "    </tr>\n",
       "    <tr>\n",
       "      <th>2019-11-13</th>\n",
       "      <td>66.117500</td>\n",
       "      <td>65.040688</td>\n",
       "    </tr>\n",
       "    <tr>\n",
       "      <th>2019-11-14</th>\n",
       "      <td>65.660004</td>\n",
       "      <td>65.390198</td>\n",
       "    </tr>\n",
       "    <tr>\n",
       "      <th>2019-11-15</th>\n",
       "      <td>66.440002</td>\n",
       "      <td>65.641068</td>\n",
       "    </tr>\n",
       "    <tr>\n",
       "      <th>2019-11-18</th>\n",
       "      <td>66.775002</td>\n",
       "      <td>65.849289</td>\n",
       "    </tr>\n",
       "    <tr>\n",
       "      <th>2019-11-19</th>\n",
       "      <td>66.572502</td>\n",
       "      <td>66.045898</td>\n",
       "    </tr>\n",
       "    <tr>\n",
       "      <th>2019-11-20</th>\n",
       "      <td>65.797501</td>\n",
       "      <td>66.205338</td>\n",
       "    </tr>\n",
       "    <tr>\n",
       "      <th>2019-11-21</th>\n",
       "      <td>65.502502</td>\n",
       "      <td>66.245590</td>\n",
       "    </tr>\n",
       "    <tr>\n",
       "      <th>2019-11-22</th>\n",
       "      <td>65.445000</td>\n",
       "      <td>66.139648</td>\n",
       "    </tr>\n",
       "    <tr>\n",
       "      <th>2019-11-25</th>\n",
       "      <td>66.592499</td>\n",
       "      <td>65.910767</td>\n",
       "    </tr>\n",
       "    <tr>\n",
       "      <th>2019-11-26</th>\n",
       "      <td>66.072502</td>\n",
       "      <td>65.706802</td>\n",
       "    </tr>\n",
       "    <tr>\n",
       "      <th>2019-11-27</th>\n",
       "      <td>66.959999</td>\n",
       "      <td>65.524551</td>\n",
       "    </tr>\n",
       "    <tr>\n",
       "      <th>2019-11-29</th>\n",
       "      <td>66.812500</td>\n",
       "      <td>65.452339</td>\n",
       "    </tr>\n",
       "    <tr>\n",
       "      <th>2019-12-02</th>\n",
       "      <td>66.040001</td>\n",
       "      <td>65.476074</td>\n",
       "    </tr>\n",
       "    <tr>\n",
       "      <th>2019-12-03</th>\n",
       "      <td>64.862503</td>\n",
       "      <td>65.501068</td>\n",
       "    </tr>\n",
       "    <tr>\n",
       "      <th>2019-12-04</th>\n",
       "      <td>65.434998</td>\n",
       "      <td>65.396835</td>\n",
       "    </tr>\n",
       "    <tr>\n",
       "      <th>2019-12-05</th>\n",
       "      <td>66.394997</td>\n",
       "      <td>65.216461</td>\n",
       "    </tr>\n",
       "    <tr>\n",
       "      <th>2019-12-06</th>\n",
       "      <td>67.677498</td>\n",
       "      <td>65.083916</td>\n",
       "    </tr>\n",
       "    <tr>\n",
       "      <th>2019-12-09</th>\n",
       "      <td>66.730003</td>\n",
       "      <td>65.143471</td>\n",
       "    </tr>\n",
       "    <tr>\n",
       "      <th>2019-12-10</th>\n",
       "      <td>67.120003</td>\n",
       "      <td>65.303673</td>\n",
       "    </tr>\n",
       "    <tr>\n",
       "      <th>2019-12-11</th>\n",
       "      <td>67.692497</td>\n",
       "      <td>65.547623</td>\n",
       "    </tr>\n",
       "    <tr>\n",
       "      <th>2019-12-12</th>\n",
       "      <td>67.864998</td>\n",
       "      <td>65.881973</td>\n",
       "    </tr>\n",
       "    <tr>\n",
       "      <th>2019-12-13</th>\n",
       "      <td>68.787498</td>\n",
       "      <td>66.277779</td>\n",
       "    </tr>\n",
       "    <tr>\n",
       "      <th>2019-12-16</th>\n",
       "      <td>69.964996</td>\n",
       "      <td>66.767731</td>\n",
       "    </tr>\n",
       "    <tr>\n",
       "      <th>2019-12-17</th>\n",
       "      <td>70.102501</td>\n",
       "      <td>67.407074</td>\n",
       "    </tr>\n",
       "  </tbody>\n",
       "</table>\n",
       "<p>400 rows × 2 columns</p>\n",
       "</div>"
      ],
      "text/plain": [
       "                Close  Predictions\n",
       "Date                              \n",
       "2018-05-17  46.747501    47.506256\n",
       "2018-05-18  46.577499    47.564724\n",
       "2018-05-21  46.907501    47.459621\n",
       "2018-05-22  46.790001    47.261734\n",
       "2018-05-23  47.090000    47.013092\n",
       "2018-05-24  47.037498    46.770729\n",
       "2018-05-25  47.145000    46.558388\n",
       "2018-05-29  46.974998    46.394951\n",
       "2018-05-30  46.875000    46.271721\n",
       "2018-05-31  46.717499    46.176914\n",
       "2018-06-01  47.560001    46.094818\n",
       "2018-06-04  47.957500    46.078388\n",
       "2018-06-05  48.327499    46.155533\n",
       "2018-06-06  48.494999    46.336216\n",
       "2018-06-07  48.365002    46.602734\n",
       "2018-06-08  47.924999    46.907169\n",
       "2018-06-11  47.807499    47.178806\n",
       "2018-06-12  48.070000    47.378712\n",
       "2018-06-13  47.674999    47.515320\n",
       "2018-06-14  47.700001    47.569008\n",
       "2018-06-15  47.209999    47.551716\n",
       "2018-06-18  47.185001    47.449997\n",
       "2018-06-19  46.422501    47.283863\n",
       "2018-06-20  46.625000    47.031761\n",
       "2018-06-21  46.365002    46.736515\n",
       "2018-06-22  46.230000    46.420071\n",
       "2018-06-25  45.542500    46.105251\n",
       "2018-06-26  46.107498    45.773235\n",
       "2018-06-27  46.040001    45.480953\n",
       "2018-06-28  46.375000    45.249092\n",
       "...               ...          ...\n",
       "2019-11-05  64.282501    62.010582\n",
       "2019-11-06  64.309998    62.552525\n",
       "2019-11-07  64.857498    63.112968\n",
       "2019-11-08  65.035004    63.666828\n",
       "2019-11-11  65.550003    64.176903\n",
       "2019-11-12  65.489998    64.646477\n",
       "2019-11-13  66.117500    65.040688\n",
       "2019-11-14  65.660004    65.390198\n",
       "2019-11-15  66.440002    65.641068\n",
       "2019-11-18  66.775002    65.849289\n",
       "2019-11-19  66.572502    66.045898\n",
       "2019-11-20  65.797501    66.205338\n",
       "2019-11-21  65.502502    66.245590\n",
       "2019-11-22  65.445000    66.139648\n",
       "2019-11-25  66.592499    65.910767\n",
       "2019-11-26  66.072502    65.706802\n",
       "2019-11-27  66.959999    65.524551\n",
       "2019-11-29  66.812500    65.452339\n",
       "2019-12-02  66.040001    65.476074\n",
       "2019-12-03  64.862503    65.501068\n",
       "2019-12-04  65.434998    65.396835\n",
       "2019-12-05  66.394997    65.216461\n",
       "2019-12-06  67.677498    65.083916\n",
       "2019-12-09  66.730003    65.143471\n",
       "2019-12-10  67.120003    65.303673\n",
       "2019-12-11  67.692497    65.547623\n",
       "2019-12-12  67.864998    65.881973\n",
       "2019-12-13  68.787498    66.277779\n",
       "2019-12-16  69.964996    66.767731\n",
       "2019-12-17  70.102501    67.407074\n",
       "\n",
       "[400 rows x 2 columns]"
      ]
     },
     "execution_count": 35,
     "metadata": {},
     "output_type": "execute_result"
    }
   ],
   "source": [
    "valid"
   ]
  },
  {
   "cell_type": "markdown",
   "metadata": {},
   "source": [
    "# Predict closing proice for dec 27, 2019"
   ]
  },
  {
   "cell_type": "code",
   "execution_count": 64,
   "metadata": {},
   "outputs": [],
   "source": [
    "df=  web.DataReader('AAPL',data_source='yahoo', start='2012-01-01', end='2019-12-26')"
   ]
  },
  {
   "cell_type": "code",
   "execution_count": 65,
   "metadata": {},
   "outputs": [],
   "source": [
    "new_df = df[['Close']]"
   ]
  },
  {
   "cell_type": "code",
   "execution_count": 66,
   "metadata": {},
   "outputs": [],
   "source": [
    "# get last 60 days\n",
    "last_60_days = new_df[-60:].values\n",
    "\n",
    "#scaling\n",
    "last_60_days_scaled = sc.transform(last_60_days)"
   ]
  },
  {
   "cell_type": "code",
   "execution_count": 67,
   "metadata": {},
   "outputs": [],
   "source": [
    "xtest = []\n",
    "#append past 60 days\n",
    "xtest.append(last_60_days_scaled)\n",
    "xtest = np.array(xtest)"
   ]
  },
  {
   "cell_type": "code",
   "execution_count": 68,
   "metadata": {},
   "outputs": [
    {
     "data": {
      "text/plain": [
       "(1, 60, 1)"
      ]
     },
     "execution_count": 68,
     "metadata": {},
     "output_type": "execute_result"
    }
   ],
   "source": [
    "xtest.shape"
   ]
  },
  {
   "cell_type": "code",
   "execution_count": 69,
   "metadata": {},
   "outputs": [],
   "source": [
    "predicted_test = regressor_model.predict(xtest)\n",
    "predicted_test = sc.inverse_transform(predicted_test)"
   ]
  },
  {
   "cell_type": "code",
   "execution_count": 70,
   "metadata": {},
   "outputs": [
    {
     "data": {
      "text/plain": [
       "array([[71.17255]], dtype=float32)"
      ]
     },
     "execution_count": 70,
     "metadata": {},
     "output_type": "execute_result"
    }
   ],
   "source": [
    "predicted_test"
   ]
  },
  {
   "cell_type": "code",
   "execution_count": 71,
   "metadata": {
    "scrolled": true
   },
   "outputs": [
    {
     "data": {
      "text/plain": [
       "Date\n",
       "2019-12-26    72.477501\n",
       "2019-12-27    72.449997\n",
       "Name: Close, dtype: float64"
      ]
     },
     "execution_count": 71,
     "metadata": {},
     "output_type": "execute_result"
    }
   ],
   "source": [
    "df = web.DataReader('AAPL', data_source='yahoo', start='2019-12-27', end='2019-12-27')\n",
    "\n",
    "df['Close']"
   ]
  },
  {
   "cell_type": "code",
   "execution_count": 72,
   "metadata": {},
   "outputs": [
    {
     "data": {
      "text/html": [
       "<div>\n",
       "<style scoped>\n",
       "    .dataframe tbody tr th:only-of-type {\n",
       "        vertical-align: middle;\n",
       "    }\n",
       "\n",
       "    .dataframe tbody tr th {\n",
       "        vertical-align: top;\n",
       "    }\n",
       "\n",
       "    .dataframe thead th {\n",
       "        text-align: right;\n",
       "    }\n",
       "</style>\n",
       "<table border=\"1\" class=\"dataframe\">\n",
       "  <thead>\n",
       "    <tr style=\"text-align: right;\">\n",
       "      <th></th>\n",
       "      <th>High</th>\n",
       "      <th>Low</th>\n",
       "      <th>Open</th>\n",
       "      <th>Close</th>\n",
       "      <th>Volume</th>\n",
       "      <th>Adj Close</th>\n",
       "    </tr>\n",
       "    <tr>\n",
       "      <th>Date</th>\n",
       "      <th></th>\n",
       "      <th></th>\n",
       "      <th></th>\n",
       "      <th></th>\n",
       "      <th></th>\n",
       "      <th></th>\n",
       "    </tr>\n",
       "  </thead>\n",
       "  <tbody>\n",
       "    <tr>\n",
       "      <th>2019-12-26</th>\n",
       "      <td>72.495003</td>\n",
       "      <td>71.175003</td>\n",
       "      <td>71.205002</td>\n",
       "      <td>72.477501</td>\n",
       "      <td>93121200</td>\n",
       "      <td>71.856941</td>\n",
       "    </tr>\n",
       "    <tr>\n",
       "      <th>2019-12-27</th>\n",
       "      <td>73.492500</td>\n",
       "      <td>72.029999</td>\n",
       "      <td>72.779999</td>\n",
       "      <td>72.449997</td>\n",
       "      <td>146266000</td>\n",
       "      <td>71.829674</td>\n",
       "    </tr>\n",
       "  </tbody>\n",
       "</table>\n",
       "</div>"
      ],
      "text/plain": [
       "                 High        Low       Open      Close     Volume  Adj Close\n",
       "Date                                                                        \n",
       "2019-12-26  72.495003  71.175003  71.205002  72.477501   93121200  71.856941\n",
       "2019-12-27  73.492500  72.029999  72.779999  72.449997  146266000  71.829674"
      ]
     },
     "execution_count": 72,
     "metadata": {},
     "output_type": "execute_result"
    }
   ],
   "source": [
    "df"
   ]
  },
  {
   "cell_type": "markdown",
   "metadata": {},
   "source": [
    "As we can see that actual Close price for 27th Dec, 2019 \"72.449997\" is closer to \"71.17255\""
   ]
  },
  {
   "cell_type": "markdown",
   "metadata": {},
   "source": [
    "# END"
   ]
  }
 ],
 "metadata": {
  "kernelspec": {
   "display_name": "Python 3",
   "language": "python",
   "name": "python3"
  },
  "language_info": {
   "codemirror_mode": {
    "name": "ipython",
    "version": 3
   },
   "file_extension": ".py",
   "mimetype": "text/x-python",
   "name": "python",
   "nbconvert_exporter": "python",
   "pygments_lexer": "ipython3",
   "version": "3.7.0"
  }
 },
 "nbformat": 4,
 "nbformat_minor": 2
}
