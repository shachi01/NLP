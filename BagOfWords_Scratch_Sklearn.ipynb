{
 "cells": [
  {
   "cell_type": "markdown",
   "id": "e16143b1",
   "metadata": {},
   "source": [
    "# Text Feature Extraction : BagofWords Model"
   ]
  },
  {
   "cell_type": "code",
   "execution_count": 1,
   "id": "82d504d7",
   "metadata": {},
   "outputs": [],
   "source": [
    "import pandas as pd\n",
    "from sklearn.feature_extraction.text import CountVectorizer\n",
    "from collections import Counter\n",
    "from scipy.sparse import csr_matrix"
   ]
  },
  {
   "cell_type": "code",
   "execution_count": 2,
   "id": "bf198eb3",
   "metadata": {},
   "outputs": [],
   "source": [
    "doc = [\"This is a good city\",\n",
    "      \"You are good human\",\n",
    "      \"This is worth fight for your own worth\"]"
   ]
  },
  {
   "cell_type": "markdown",
   "id": "6ff9cd0a",
   "metadata": {},
   "source": [
    "## Sklearn CountVectorizer"
   ]
  },
  {
   "cell_type": "markdown",
   "id": "a5c33fe6",
   "metadata": {},
   "source": [
    "token_pattern is defined since CountVectorizer ignores the single character"
   ]
  },
  {
   "cell_type": "code",
   "execution_count": 3,
   "id": "32a5a4ea",
   "metadata": {},
   "outputs": [],
   "source": [
    "cv = CountVectorizer(token_pattern=r\"(?u)\\b\\w+\\b\")\n",
    "count_occurrences = cv.fit_transform(doc)"
   ]
  },
  {
   "cell_type": "code",
   "execution_count": 4,
   "id": "77398416",
   "metadata": {},
   "outputs": [
    {
     "data": {
      "text/plain": [
       "array([[1, 0, 1, 0, 0, 1, 0, 1, 0, 1, 0, 0, 0],\n",
       "       [0, 1, 0, 0, 0, 1, 1, 0, 0, 0, 0, 1, 0],\n",
       "       [0, 0, 0, 1, 1, 0, 0, 1, 1, 1, 2, 0, 1]], dtype=int64)"
      ]
     },
     "execution_count": 4,
     "metadata": {},
     "output_type": "execute_result"
    }
   ],
   "source": [
    "count_occurrences.toarray()"
   ]
  },
  {
   "cell_type": "code",
   "execution_count": 5,
   "id": "94bb3320",
   "metadata": {},
   "outputs": [],
   "source": [
    "count_vect_df = pd.DataFrame(data = count_occurrences.toarray(), columns= cv.get_feature_names())"
   ]
  },
  {
   "cell_type": "code",
   "execution_count": 6,
   "id": "cd3b68e4",
   "metadata": {
    "scrolled": true
   },
   "outputs": [
    {
     "data": {
      "text/html": [
       "<div>\n",
       "<style scoped>\n",
       "    .dataframe tbody tr th:only-of-type {\n",
       "        vertical-align: middle;\n",
       "    }\n",
       "\n",
       "    .dataframe tbody tr th {\n",
       "        vertical-align: top;\n",
       "    }\n",
       "\n",
       "    .dataframe thead th {\n",
       "        text-align: right;\n",
       "    }\n",
       "</style>\n",
       "<table border=\"1\" class=\"dataframe\">\n",
       "  <thead>\n",
       "    <tr style=\"text-align: right;\">\n",
       "      <th></th>\n",
       "      <th>a</th>\n",
       "      <th>are</th>\n",
       "      <th>city</th>\n",
       "      <th>fight</th>\n",
       "      <th>for</th>\n",
       "      <th>good</th>\n",
       "      <th>human</th>\n",
       "      <th>is</th>\n",
       "      <th>own</th>\n",
       "      <th>this</th>\n",
       "      <th>worth</th>\n",
       "      <th>you</th>\n",
       "      <th>your</th>\n",
       "    </tr>\n",
       "  </thead>\n",
       "  <tbody>\n",
       "    <tr>\n",
       "      <th>0</th>\n",
       "      <td>1</td>\n",
       "      <td>0</td>\n",
       "      <td>1</td>\n",
       "      <td>0</td>\n",
       "      <td>0</td>\n",
       "      <td>1</td>\n",
       "      <td>0</td>\n",
       "      <td>1</td>\n",
       "      <td>0</td>\n",
       "      <td>1</td>\n",
       "      <td>0</td>\n",
       "      <td>0</td>\n",
       "      <td>0</td>\n",
       "    </tr>\n",
       "    <tr>\n",
       "      <th>1</th>\n",
       "      <td>0</td>\n",
       "      <td>1</td>\n",
       "      <td>0</td>\n",
       "      <td>0</td>\n",
       "      <td>0</td>\n",
       "      <td>1</td>\n",
       "      <td>1</td>\n",
       "      <td>0</td>\n",
       "      <td>0</td>\n",
       "      <td>0</td>\n",
       "      <td>0</td>\n",
       "      <td>1</td>\n",
       "      <td>0</td>\n",
       "    </tr>\n",
       "    <tr>\n",
       "      <th>2</th>\n",
       "      <td>0</td>\n",
       "      <td>0</td>\n",
       "      <td>0</td>\n",
       "      <td>1</td>\n",
       "      <td>1</td>\n",
       "      <td>0</td>\n",
       "      <td>0</td>\n",
       "      <td>1</td>\n",
       "      <td>1</td>\n",
       "      <td>1</td>\n",
       "      <td>2</td>\n",
       "      <td>0</td>\n",
       "      <td>1</td>\n",
       "    </tr>\n",
       "  </tbody>\n",
       "</table>\n",
       "</div>"
      ],
      "text/plain": [
       "   a  are  city  fight  for  good  human  is  own  this  worth  you  your\n",
       "0  1    0     1      0    0     1      0   1    0     1      0    0     0\n",
       "1  0    1     0      0    0     1      1   0    0     0      0    1     0\n",
       "2  0    0     0      1    1     0      0   1    1     1      2    0     1"
      ]
     },
     "execution_count": 6,
     "metadata": {},
     "output_type": "execute_result"
    }
   ],
   "source": [
    "count_vect_df"
   ]
  },
  {
   "cell_type": "markdown",
   "id": "fa8c360e",
   "metadata": {},
   "source": [
    "Now let's implementit from scratch"
   ]
  },
  {
   "cell_type": "markdown",
   "id": "3c9fbe96",
   "metadata": {},
   "source": [
    "## Manually (Scratch)"
   ]
  },
  {
   "cell_type": "markdown",
   "id": "aece16c1",
   "metadata": {},
   "source": [
    "Convert the text into lowercase to not differentiate between \"this\" and \"This\""
   ]
  },
  {
   "cell_type": "code",
   "execution_count": 7,
   "id": "ebb0f6f7",
   "metadata": {},
   "outputs": [],
   "source": [
    "doc = list(map(str.lower, doc))"
   ]
  },
  {
   "cell_type": "markdown",
   "id": "5005e4a8",
   "metadata": {},
   "source": [
    "Tokenize and create a vocabulary identifying unique words.\n",
    "Set an index for the vocab words"
   ]
  },
  {
   "cell_type": "code",
   "execution_count": 8,
   "id": "cc5a2a6d",
   "metadata": {},
   "outputs": [
    {
     "data": {
      "text/plain": [
       "{'a': 0,\n",
       " 'are': 1,\n",
       " 'city': 2,\n",
       " 'fight': 3,\n",
       " 'for': 4,\n",
       " 'good': 5,\n",
       " 'human': 6,\n",
       " 'is': 7,\n",
       " 'own': 8,\n",
       " 'this': 9,\n",
       " 'worth': 10,\n",
       " 'you': 11,\n",
       " 'your': 12}"
      ]
     },
     "execution_count": 8,
     "metadata": {},
     "output_type": "execute_result"
    }
   ],
   "source": [
    "unique_words = set((doc[0] + ' '+ doc[1] +' '+ doc[2]).split())\n",
    "index_dict = {}\n",
    "for ind, i in enumerate(sorted(unique_words)):\n",
    "    index_dict[i] = ind\n",
    "index_dict"
   ]
  },
  {
   "cell_type": "markdown",
   "id": "bffff60a",
   "metadata": {},
   "source": [
    "Create a sparse matrix\n",
    "- Iterate over each doc (sentence) in corpus. Get its word count. \n",
    "- To create sparse matrix, create the variables for row, col and values. \n",
    "    - Get the \"row\" data relating the corpus \n",
    "    - Get the \"col\" data as an index relating the index_dict\n",
    "    - Get the \"val\" data as a countrelating count_dict"
   ]
  },
  {
   "cell_type": "code",
   "execution_count": 9,
   "id": "6ba5d001",
   "metadata": {},
   "outputs": [],
   "source": [
    "row,col,val = [],[],[]\n",
    "for idx, text in enumerate(doc):\n",
    "    count_dict = {}\n",
    "    tokens = text.split()\n",
    "    # Get count of each word in sentence\n",
    "    for word in tokens:        \n",
    "        count_dict[word] = tokens.count(word)   \n",
    "    #c = dict(Counter(text.split(' ')))\n",
    "    #for word, count in c.items():\n",
    "    for word, count in count_dict.items():\n",
    "        ind = index_dict[word]        \n",
    "        row.append(idx)\n",
    "        col.append(ind)\n",
    "        val.append(count)"
   ]
  },
  {
   "cell_type": "markdown",
   "id": "a790ae4c",
   "metadata": {},
   "source": [
    "#### Scratch implementation result"
   ]
  },
  {
   "cell_type": "code",
   "execution_count": 10,
   "id": "11d74260",
   "metadata": {
    "scrolled": false
   },
   "outputs": [
    {
     "name": "stdout",
     "output_type": "stream",
     "text": [
      "[[1 0 1 0 0 1 0 1 0 1 0 0 0]\n",
      " [0 1 0 0 0 1 1 0 0 0 0 1 0]\n",
      " [0 0 0 1 1 0 0 1 1 1 2 0 1]]\n"
     ]
    }
   ],
   "source": [
    "print((csr_matrix((val, (row, col)),shape = (len(doc),len(index_dict)))).toarray())"
   ]
  },
  {
   "cell_type": "markdown",
   "id": "3ce9e2e6",
   "metadata": {},
   "source": [
    "#### Count Vectorizer result"
   ]
  },
  {
   "cell_type": "code",
   "execution_count": 11,
   "id": "c669f6cd",
   "metadata": {
    "scrolled": true
   },
   "outputs": [
    {
     "data": {
      "text/plain": [
       "array([[1, 0, 1, 0, 0, 1, 0, 1, 0, 1, 0, 0, 0],\n",
       "       [0, 1, 0, 0, 0, 1, 1, 0, 0, 0, 0, 1, 0],\n",
       "       [0, 0, 0, 1, 1, 0, 0, 1, 1, 1, 2, 0, 1]], dtype=int64)"
      ]
     },
     "execution_count": 11,
     "metadata": {},
     "output_type": "execute_result"
    }
   ],
   "source": [
    "count_occurrences.toarray()"
   ]
  },
  {
   "cell_type": "markdown",
   "id": "8b508959",
   "metadata": {},
   "source": [
    "We have seen the scratch implementation of CountVectorizer and the results of both are the same. "
   ]
  },
  {
   "cell_type": "markdown",
   "id": "be3c065a",
   "metadata": {},
   "source": [
    "# END"
   ]
  }
 ],
 "metadata": {
  "kernelspec": {
   "display_name": "Python 3",
   "language": "python",
   "name": "python3"
  },
  "language_info": {
   "codemirror_mode": {
    "name": "ipython",
    "version": 3
   },
   "file_extension": ".py",
   "mimetype": "text/x-python",
   "name": "python",
   "nbconvert_exporter": "python",
   "pygments_lexer": "ipython3",
   "version": "3.8.8"
  }
 },
 "nbformat": 4,
 "nbformat_minor": 5
}
